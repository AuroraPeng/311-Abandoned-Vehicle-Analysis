{
 "cells": [
  {
   "cell_type": "markdown",
   "id": "abacb75e",
   "metadata": {},
   "source": [
    "# Chicago 311 Service Abandoned vehicle  - historical request data.   \n",
    "\n",
    "### MACS Machine Learning final project  \n",
    "\n",
    "\n",
    "\n"
   ]
  },
  {
   "cell_type": "markdown",
   "id": "22c69696",
   "metadata": {},
   "source": [
    "Abandoned cars are a continuous issues in urban areas across the nation, especially in Chicago due to extreme population density.Having abandoned cars lead to social issues which costs the city and taxpayers money due to increase in hazardous waste, littering, general blight, etc. So the objective is to provided a new feature as 'Estimated time to Complete Service' to allow the Citizen of Chicago to better improve their calling experience.\n",
    "\n",
    "All open abandoned vehicle complaints made to 311 and all requests completed since 1/1/11. This data is collated from public requests on the 311 app. This data set has data through 7/23/20 and can be publicly accessed here: 311 Service Requests - Abandoned Vehicles – Historical：https://data.cityofchicago.org/Service-Requests/311-Service-Requests-Abandoned-Vehicles-Historical/3c9v-pnva.\n",
    "\n",
    "So I'm utilizing Regression, Polynominial Regression and Regularized Linear Model to predict the expected processing time for the vehicle to be towed to provide towards the citizens when report the abandoned vehicle."
   ]
  },
  {
   "cell_type": "code",
   "execution_count": 1,
   "id": "b23644f6",
   "metadata": {},
   "outputs": [],
   "source": [
    "#lets setup our import statements\n",
    "import numpy as np\n",
    "import pandas as pd\n",
    "import matplotlib\n",
    "import matplotlib.pyplot as plt\n",
    "import seaborn as sns\n",
    "import recordlinkage as rl\n",
    "from mpl_toolkits.mplot3d import Axes3D\n",
    "from collections import Counter\n",
    "from sklearn.preprocessing import StandardScaler\n",
    "from datetime import datetime, date, time, timezone\n",
    "import sklearn.preprocessing\n",
    "from sklearn.impute import SimpleImputer\n",
    "from sklearn.preprocessing import OrdinalEncoder\n",
    "from sklearn.preprocessing import OneHotEncoder\n",
    "from sklearn.preprocessing import LabelEncoder\n",
    "from sklearn.model_selection import train_test_split\n",
    "from sklearn.preprocessing import MaxAbsScaler\n",
    "from sklearn.model_selection import train_test_split\n",
    "from sklearn.linear_model import LinearRegression\n",
    "from sklearn import metrics\n",
    "from sklearn.model_selection import cross_val_score\n",
    "\n",
    "from sklearn.preprocessing import MinMaxScaler, StandardScaler\n",
    "from sklearn import linear_model\n",
    "evaluation = pd.DataFrame({'Model': [],\n",
    "                           'Details':[],\n",
    "                           'Root Mean Squared Error (RMSE)':[],\n",
    "                           'R-squared (training)':[],\n",
    "                           'Adjusted R-squared (training)':[],\n",
    "                           'R-squared (test)':[],\n",
    "                           'Adjusted R-squared (test)':[],\n",
    "                           '5-Fold Cross Validation':[]})\n",
    "\n",
    "#311_Service_Requests_-_Abandoned_Vehicles_-_Historical.csv"
   ]
  },
  {
   "cell_type": "code",
   "execution_count": 2,
   "id": "2aa29f29",
   "metadata": {},
   "outputs": [
    {
     "name": "stdout",
     "output_type": "stream",
     "text": [
      "(261486, 22)\n"
     ]
    }
   ],
   "source": [
    "#read in dataset.  Assumes file is in the same directory as the notebook. \n",
    "df = pd.read_csv('./311_Service_Requests_-_Abandoned_Vehicles_-_Historical.csv')\n",
    "print (df.shape)"
   ]
  },
  {
   "cell_type": "code",
   "execution_count": 3,
   "id": "8f85e235",
   "metadata": {},
   "outputs": [
    {
     "name": "stdout",
     "output_type": "stream",
     "text": [
      "<class 'pandas.core.frame.DataFrame'>\n",
      "RangeIndex: 261486 entries, 0 to 261485\n",
      "Data columns (total 22 columns):\n",
      " #   Column                                                  Non-Null Count   Dtype  \n",
      "---  ------                                                  --------------   -----  \n",
      " 0   Creation Date                                           261486 non-null  object \n",
      " 1   Status                                                  261486 non-null  object \n",
      " 2   Completion Date                                         257501 non-null  object \n",
      " 3   Service Request Number                                  261486 non-null  object \n",
      " 4   Type of Service Request                                 261486 non-null  object \n",
      " 5   License Plate                                           240743 non-null  object \n",
      " 6   Vehicle Make/Model                                      240115 non-null  object \n",
      " 7   Vehicle Color                                           245886 non-null  object \n",
      " 8   Current Activity                                        229412 non-null  object \n",
      " 9   Most Recent Action                                      228388 non-null  object \n",
      " 10  How Many Days Has the Vehicle Been Reported as Parked?  217495 non-null  float64\n",
      " 11  Street Address                                          261375 non-null  object \n",
      " 12  ZIP Code                                                261020 non-null  float64\n",
      " 13  X Coordinate                                            176816 non-null  float64\n",
      " 14  Y Coordinate                                            176816 non-null  float64\n",
      " 15  Ward                                                    261079 non-null  float64\n",
      " 16  Police District                                         261079 non-null  float64\n",
      " 17  Community Area                                          261079 non-null  float64\n",
      " 18  SSA                                                     33998 non-null   float64\n",
      " 19  Latitude                                                260557 non-null  float64\n",
      " 20  Longitude                                               260557 non-null  float64\n",
      " 21  Location                                                260557 non-null  object \n",
      "dtypes: float64(10), object(12)\n",
      "memory usage: 43.9+ MB\n"
     ]
    }
   ],
   "source": [
    "#here we're checking what we imported to see how it looks.  \n",
    "df.info(True)"
   ]
  },
  {
   "cell_type": "code",
   "execution_count": 4,
   "id": "6860e4b6",
   "metadata": {},
   "outputs": [
    {
     "data": {
      "text/html": [
       "<div>\n",
       "<style scoped>\n",
       "    .dataframe tbody tr th:only-of-type {\n",
       "        vertical-align: middle;\n",
       "    }\n",
       "\n",
       "    .dataframe tbody tr th {\n",
       "        vertical-align: top;\n",
       "    }\n",
       "\n",
       "    .dataframe thead th {\n",
       "        text-align: right;\n",
       "    }\n",
       "</style>\n",
       "<table border=\"1\" class=\"dataframe\">\n",
       "  <thead>\n",
       "    <tr style=\"text-align: right;\">\n",
       "      <th></th>\n",
       "      <th>How Many Days Has the Vehicle Been Reported as Parked?</th>\n",
       "      <th>ZIP Code</th>\n",
       "      <th>X Coordinate</th>\n",
       "      <th>Y Coordinate</th>\n",
       "      <th>Ward</th>\n",
       "      <th>Police District</th>\n",
       "      <th>Community Area</th>\n",
       "      <th>SSA</th>\n",
       "      <th>Latitude</th>\n",
       "      <th>Longitude</th>\n",
       "    </tr>\n",
       "  </thead>\n",
       "  <tbody>\n",
       "    <tr>\n",
       "      <th>count</th>\n",
       "      <td>2.174950e+05</td>\n",
       "      <td>261020.000000</td>\n",
       "      <td>1.768160e+05</td>\n",
       "      <td>1.768160e+05</td>\n",
       "      <td>261079.000000</td>\n",
       "      <td>261079.000000</td>\n",
       "      <td>261079.000000</td>\n",
       "      <td>33998.000000</td>\n",
       "      <td>260557.000000</td>\n",
       "      <td>260557.000000</td>\n",
       "    </tr>\n",
       "    <tr>\n",
       "      <th>mean</th>\n",
       "      <td>4.602407e+11</td>\n",
       "      <td>60601.537852</td>\n",
       "      <td>1.157781e+06</td>\n",
       "      <td>1.894504e+06</td>\n",
       "      <td>25.757472</td>\n",
       "      <td>13.229007</td>\n",
       "      <td>35.133642</td>\n",
       "      <td>32.863698</td>\n",
       "      <td>41.865719</td>\n",
       "      <td>-87.695342</td>\n",
       "    </tr>\n",
       "    <tr>\n",
       "      <th>std</th>\n",
       "      <td>2.144251e+14</td>\n",
       "      <td>1358.079473</td>\n",
       "      <td>1.675354e+04</td>\n",
       "      <td>3.321456e+04</td>\n",
       "      <td>13.734464</td>\n",
       "      <td>6.853680</td>\n",
       "      <td>22.777940</td>\n",
       "      <td>17.509855</td>\n",
       "      <td>0.091636</td>\n",
       "      <td>0.060607</td>\n",
       "    </tr>\n",
       "    <tr>\n",
       "      <th>min</th>\n",
       "      <td>-5.234545e+08</td>\n",
       "      <td>0.000000</td>\n",
       "      <td>6.923780e+05</td>\n",
       "      <td>1.813943e+06</td>\n",
       "      <td>0.000000</td>\n",
       "      <td>0.000000</td>\n",
       "      <td>0.000000</td>\n",
       "      <td>1.000000</td>\n",
       "      <td>41.644497</td>\n",
       "      <td>-87.913726</td>\n",
       "    </tr>\n",
       "    <tr>\n",
       "      <th>25%</th>\n",
       "      <td>1.200000e+01</td>\n",
       "      <td>60620.000000</td>\n",
       "      <td>1.146896e+06</td>\n",
       "      <td>1.864966e+06</td>\n",
       "      <td>14.000000</td>\n",
       "      <td>8.000000</td>\n",
       "      <td>16.000000</td>\n",
       "      <td>21.000000</td>\n",
       "      <td>41.784567</td>\n",
       "      <td>-87.734709</td>\n",
       "    </tr>\n",
       "    <tr>\n",
       "      <th>50%</th>\n",
       "      <td>2.100000e+01</td>\n",
       "      <td>60630.000000</td>\n",
       "      <td>1.156857e+06</td>\n",
       "      <td>1.901479e+06</td>\n",
       "      <td>26.000000</td>\n",
       "      <td>12.000000</td>\n",
       "      <td>28.000000</td>\n",
       "      <td>33.000000</td>\n",
       "      <td>41.883272</td>\n",
       "      <td>-87.698036</td>\n",
       "    </tr>\n",
       "    <tr>\n",
       "      <th>75%</th>\n",
       "      <td>3.000000e+01</td>\n",
       "      <td>60641.000000</td>\n",
       "      <td>1.168122e+06</td>\n",
       "      <td>1.922894e+06</td>\n",
       "      <td>37.000000</td>\n",
       "      <td>18.000000</td>\n",
       "      <td>58.000000</td>\n",
       "      <td>48.000000</td>\n",
       "      <td>41.944648</td>\n",
       "      <td>-87.657847</td>\n",
       "    </tr>\n",
       "    <tr>\n",
       "      <th>max</th>\n",
       "      <td>1.000000e+17</td>\n",
       "      <td>60827.000000</td>\n",
       "      <td>1.205117e+06</td>\n",
       "      <td>1.951493e+06</td>\n",
       "      <td>50.000000</td>\n",
       "      <td>31.000000</td>\n",
       "      <td>77.000000</td>\n",
       "      <td>69.000000</td>\n",
       "      <td>42.022660</td>\n",
       "      <td>-87.524478</td>\n",
       "    </tr>\n",
       "  </tbody>\n",
       "</table>\n",
       "</div>"
      ],
      "text/plain": [
       "       How Many Days Has the Vehicle Been Reported as Parked?       ZIP Code  \\\n",
       "count                                       2.174950e+05       261020.000000   \n",
       "mean                                        4.602407e+11        60601.537852   \n",
       "std                                         2.144251e+14         1358.079473   \n",
       "min                                        -5.234545e+08            0.000000   \n",
       "25%                                         1.200000e+01        60620.000000   \n",
       "50%                                         2.100000e+01        60630.000000   \n",
       "75%                                         3.000000e+01        60641.000000   \n",
       "max                                         1.000000e+17        60827.000000   \n",
       "\n",
       "       X Coordinate  Y Coordinate           Ward  Police District  \\\n",
       "count  1.768160e+05  1.768160e+05  261079.000000    261079.000000   \n",
       "mean   1.157781e+06  1.894504e+06      25.757472        13.229007   \n",
       "std    1.675354e+04  3.321456e+04      13.734464         6.853680   \n",
       "min    6.923780e+05  1.813943e+06       0.000000         0.000000   \n",
       "25%    1.146896e+06  1.864966e+06      14.000000         8.000000   \n",
       "50%    1.156857e+06  1.901479e+06      26.000000        12.000000   \n",
       "75%    1.168122e+06  1.922894e+06      37.000000        18.000000   \n",
       "max    1.205117e+06  1.951493e+06      50.000000        31.000000   \n",
       "\n",
       "       Community Area           SSA       Latitude      Longitude  \n",
       "count   261079.000000  33998.000000  260557.000000  260557.000000  \n",
       "mean        35.133642     32.863698      41.865719     -87.695342  \n",
       "std         22.777940     17.509855       0.091636       0.060607  \n",
       "min          0.000000      1.000000      41.644497     -87.913726  \n",
       "25%         16.000000     21.000000      41.784567     -87.734709  \n",
       "50%         28.000000     33.000000      41.883272     -87.698036  \n",
       "75%         58.000000     48.000000      41.944648     -87.657847  \n",
       "max         77.000000     69.000000      42.022660     -87.524478  "
      ]
     },
     "execution_count": 4,
     "metadata": {},
     "output_type": "execute_result"
    }
   ],
   "source": [
    "#we can describe numeric fields to see what values look like.   definitely some cases of missing ward values\n",
    "#we'll need to look out for those. \n",
    "df.describe()"
   ]
  },
  {
   "cell_type": "code",
   "execution_count": 5,
   "id": "e9fc12c6",
   "metadata": {},
   "outputs": [
    {
     "data": {
      "text/plain": [
       "Creation Date                                                  0\n",
       "Status                                                         0\n",
       "Completion Date                                             3985\n",
       "Service Request Number                                         0\n",
       "Type of Service Request                                        0\n",
       "License Plate                                              20743\n",
       "Vehicle Make/Model                                         21371\n",
       "Vehicle Color                                              15600\n",
       "Current Activity                                           32074\n",
       "Most Recent Action                                         33098\n",
       "How Many Days Has the Vehicle Been Reported as Parked?     43991\n",
       "Street Address                                               111\n",
       "ZIP Code                                                     466\n",
       "X Coordinate                                               84670\n",
       "Y Coordinate                                               84670\n",
       "Ward                                                         407\n",
       "Police District                                              407\n",
       "Community Area                                               407\n",
       "SSA                                                       227488\n",
       "Latitude                                                     929\n",
       "Longitude                                                    929\n",
       "Location                                                     929\n",
       "dtype: int64"
      ]
     },
     "execution_count": 5,
     "metadata": {},
     "output_type": "execute_result"
    }
   ],
   "source": [
    "#lets get a view of our missing fields\n",
    "df.isnull().sum(axis = 0)"
   ]
  },
  {
   "cell_type": "markdown",
   "id": "7634d16d",
   "metadata": {},
   "source": [
    "## 1.Data Cleaning"
   ]
  },
  {
   "cell_type": "code",
   "execution_count": 6,
   "id": "3e9a7416",
   "metadata": {},
   "outputs": [],
   "source": [
    "#drop NA records where ward, police district, community area are missing.  \n",
    "df_clean = df.dropna(subset=['Ward','Police District','Community Area'])"
   ]
  },
  {
   "cell_type": "code",
   "execution_count": 7,
   "id": "9ead9125",
   "metadata": {},
   "outputs": [
    {
     "data": {
      "text/plain": [
       "Creation Date                                                  0\n",
       "Status                                                         0\n",
       "Completion Date                                             3969\n",
       "Service Request Number                                         0\n",
       "Type of Service Request                                        0\n",
       "License Plate                                              20696\n",
       "Vehicle Make/Model                                         21305\n",
       "Vehicle Color                                              15561\n",
       "Current Activity                                           31805\n",
       "Most Recent Action                                         32829\n",
       "How Many Days Has the Vehicle Been Reported as Parked?     43739\n",
       "Street Address                                                 0\n",
       "ZIP Code                                                     297\n",
       "X Coordinate                                               84469\n",
       "Y Coordinate                                               84469\n",
       "Ward                                                           0\n",
       "Police District                                                0\n",
       "Community Area                                                 0\n",
       "SSA                                                       227102\n",
       "Latitude                                                     637\n",
       "Longitude                                                    637\n",
       "Location                                                     637\n",
       "dtype: int64"
      ]
     },
     "execution_count": 7,
     "metadata": {},
     "output_type": "execute_result"
    }
   ],
   "source": [
    "#run a new set of counts. \n",
    "df_clean.isnull().sum(axis = 0)"
   ]
  },
  {
   "cell_type": "code",
   "execution_count": 8,
   "id": "40a7e630",
   "metadata": {},
   "outputs": [
    {
     "name": "stderr",
     "output_type": "stream",
     "text": [
      "/var/folders/4l/0fc5xvvd01g47wjlznw52ghm0000gn/T/ipykernel_64641/1965463514.py:4: SettingWithCopyWarning: \n",
      "A value is trying to be set on a copy of a slice from a DataFrame.\n",
      "Try using .loc[row_indexer,col_indexer] = value instead\n",
      "\n",
      "See the caveats in the documentation: https://pandas.pydata.org/pandas-docs/stable/user_guide/indexing.html#returning-a-view-versus-a-copy\n",
      "  df_clean[text_feature] = df_clean[text_feature].str.upper()\n"
     ]
    }
   ],
   "source": [
    "#set text fields to uppercase to prevent duplication in different case\n",
    "text_features = ['Status','Type of Service Request','License Plate','Vehicle Make/Model','Vehicle Color','Current Activity','Most Recent Action','Street Address']\n",
    "for text_feature in text_features:\n",
    "    df_clean[text_feature] = df_clean[text_feature].str.upper()"
   ]
  },
  {
   "cell_type": "code",
   "execution_count": 9,
   "id": "db4bc960",
   "metadata": {},
   "outputs": [
    {
     "name": "stdout",
     "output_type": "stream",
     "text": [
      "1999-12-28 00:00:00\n",
      "2020-07-23 00:00:00\n"
     ]
    }
   ],
   "source": [
    "#now lets check our creation date fields.f\n",
    "print(pd.DatetimeIndex(df_clean['Creation Date']).min())\n",
    "print(pd.DatetimeIndex(df_clean['Creation Date']).max())"
   ]
  },
  {
   "cell_type": "code",
   "execution_count": 10,
   "id": "d91925ac",
   "metadata": {},
   "outputs": [
    {
     "name": "stderr",
     "output_type": "stream",
     "text": [
      "/var/folders/4l/0fc5xvvd01g47wjlznw52ghm0000gn/T/ipykernel_64641/188121213.py:2: SettingWithCopyWarning: \n",
      "A value is trying to be set on a copy of a slice from a DataFrame.\n",
      "Try using .loc[row_indexer,col_indexer] = value instead\n",
      "\n",
      "See the caveats in the documentation: https://pandas.pydata.org/pandas-docs/stable/user_guide/indexing.html#returning-a-view-versus-a-copy\n",
      "  df_clean[\"creation_year\"] = pd.DatetimeIndex(df_clean['Creation Date']).year\n",
      "/var/folders/4l/0fc5xvvd01g47wjlznw52ghm0000gn/T/ipykernel_64641/188121213.py:3: SettingWithCopyWarning: \n",
      "A value is trying to be set on a copy of a slice from a DataFrame.\n",
      "Try using .loc[row_indexer,col_indexer] = value instead\n",
      "\n",
      "See the caveats in the documentation: https://pandas.pydata.org/pandas-docs/stable/user_guide/indexing.html#returning-a-view-versus-a-copy\n",
      "  df_clean[\"creation_month\"] = pd.DatetimeIndex(df_clean['Creation Date']).month\n",
      "/var/folders/4l/0fc5xvvd01g47wjlznw52ghm0000gn/T/ipykernel_64641/188121213.py:4: SettingWithCopyWarning: \n",
      "A value is trying to be set on a copy of a slice from a DataFrame.\n",
      "Try using .loc[row_indexer,col_indexer] = value instead\n",
      "\n",
      "See the caveats in the documentation: https://pandas.pydata.org/pandas-docs/stable/user_guide/indexing.html#returning-a-view-versus-a-copy\n",
      "  df_clean[\"creation_day\"] = pd.DatetimeIndex(df_clean['Creation Date']).day\n"
     ]
    }
   ],
   "source": [
    "#break off the creation datetime part so we can review counts by year,month and day\n",
    "df_clean[\"creation_year\"] = pd.DatetimeIndex(df_clean['Creation Date']).year\n",
    "df_clean[\"creation_month\"] = pd.DatetimeIndex(df_clean['Creation Date']).month\n",
    "df_clean[\"creation_day\"] = pd.DatetimeIndex(df_clean['Creation Date']).day"
   ]
  },
  {
   "cell_type": "code",
   "execution_count": 11,
   "id": "512047bd",
   "metadata": {},
   "outputs": [],
   "source": [
    "df_gb = df_clean.groupby(['creation_year']).count()"
   ]
  },
  {
   "cell_type": "code",
   "execution_count": 12,
   "id": "41ad96f1",
   "metadata": {},
   "outputs": [
    {
     "data": {
      "text/plain": [
       "<AxesSubplot:xlabel='creation_year'>"
      ]
     },
     "execution_count": 12,
     "metadata": {},
     "output_type": "execute_result"
    },
    {
     "data": {
      "image/png": "[encoded data removed]",
      "text/plain": [
       "<Figure size 432x288 with 1 Axes>"
      ]
     },
     "metadata": {
      "needs_background": "light"
     },
     "output_type": "display_data"
    }
   ],
   "source": [
    "#plot creation date counts by year. \n",
    "df_gb['Creation Date'].plot(kind = 'bar')"
   ]
  },
  {
   "cell_type": "code",
   "execution_count": 13,
   "id": "8ca39f41",
   "metadata": {},
   "outputs": [
    {
     "name": "stdout",
     "output_type": "stream",
     "text": [
      "2010-01-13 00:00:00\n",
      "2020-07-23 00:00:00\n"
     ]
    }
   ],
   "source": [
    "#lets limit our records to just 2010 or later\n",
    "df_clean = df_clean[df_clean['creation_year']>=2010]\n",
    "print(pd.DatetimeIndex(df_clean['Creation Date']).min())\n",
    "print(pd.DatetimeIndex(df_clean['Creation Date']).max())"
   ]
  },
  {
   "cell_type": "code",
   "execution_count": 14,
   "id": "be344391",
   "metadata": {},
   "outputs": [
    {
     "name": "stdout",
     "output_type": "stream",
     "text": [
      "2011-01-01 00:00:00\n",
      "2020-07-23 00:00:00\n"
     ]
    }
   ],
   "source": [
    "#since there's inconsistent data from 2010, we'll limit to 2011.  \n",
    "df_clean = df_clean[df_clean['creation_year']>=2011]\n",
    "print(pd.DatetimeIndex(df_clean['Creation Date']).min())\n",
    "print(pd.DatetimeIndex(df_clean['Creation Date']).max())"
   ]
  },
  {
   "cell_type": "code",
   "execution_count": 15,
   "id": "766a643e",
   "metadata": {},
   "outputs": [
    {
     "name": "stdout",
     "output_type": "stream",
     "text": [
      "-523454546.0\n",
      "1e+17\n"
     ]
    }
   ],
   "source": [
    "#lets look at days reported as parked.  \n",
    "print(df_clean['How Many Days Has the Vehicle Been Reported as Parked?'].min())\n",
    "print(df_clean['How Many Days Has the Vehicle Been Reported as Parked?'].max())"
   ]
  },
  {
   "cell_type": "code",
   "execution_count": 16,
   "id": "9085d02f",
   "metadata": {},
   "outputs": [
    {
     "data": {
      "text/plain": [
       "How Many Days Has the Vehicle Been Reported as Parked?\n",
       "-5.234545e+08    1\n",
       "-7.620000e+02    1\n",
       "-7.200000e+02    1\n",
       "-6.900000e+02    3\n",
       "-6.000000e+02    1\n",
       "                ..\n",
       " 7.738516e+09    1\n",
       " 7.738669e+09    1\n",
       " 1.000000e+10    1\n",
       " 1.000000e+14    1\n",
       " 1.000000e+17    1\n",
       "Length: 575, dtype: int64"
      ]
     },
     "execution_count": 16,
     "metadata": {},
     "output_type": "execute_result"
    }
   ],
   "source": [
    "#looks like most values only have a single entry. \n",
    "df_clean.groupby(['How Many Days Has the Vehicle Been Reported as Parked?']).size()"
   ]
  },
  {
   "cell_type": "code",
   "execution_count": 17,
   "id": "a1dea1a8",
   "metadata": {},
   "outputs": [],
   "source": [
    "#since our range is only 10 years of data we'll cap days as 4000 (around 11 years)\n",
    "#and we'll set anything less than 0 to be equal to 0. Since we can't have a negative number\n",
    "df_clean['days_reported_clean'] = df_clean['How Many Days Has the Vehicle Been Reported as Parked?']\n",
    "df_clean.loc[df_clean['days_reported_clean'] >= 4000,'days_reported_clean'] = 4000\n",
    "df_clean.loc[df_clean['days_reported_clean'] < 0,'days_reported_clean'] = 0"
   ]
  },
  {
   "cell_type": "code",
   "execution_count": 18,
   "id": "d4e0dce7",
   "metadata": {},
   "outputs": [
    {
     "data": {
      "text/plain": [
       "<AxesSubplot:xlabel='days_reported_clean'>"
      ]
     },
     "execution_count": 18,
     "metadata": {},
     "output_type": "execute_result"
    },
    {
     "data": {
      "image/png": "[encoded data removed]",
      "text/plain": [
       "<Figure size 1080x720 with 1 Axes>"
      ]
     },
     "metadata": {
      "needs_background": "light"
     },
     "output_type": "display_data"
    }
   ],
   "source": [
    "#looks like we have a lot of outliers for this particular field, but at least none of the entries are nonsensical anymore.  \n",
    "plt.figure(figsize=(15,10))\n",
    "sns.boxplot(x=df_clean['days_reported_clean'])"
   ]
  },
  {
   "cell_type": "code",
   "execution_count": 19,
   "id": "a6f60e7b",
   "metadata": {
    "scrolled": false
   },
   "outputs": [],
   "source": [
    "#Looking at license plate values we have a lot of mess there. \n",
    "#We'll need to be extra careful working with fields like \"none\", \n",
    "#\"unknown\" and \"no plates\" when we're trying to de-dup records. \n",
    "missing_value_names = df_clean['License Plate'].value_counts()[:50]\n",
    "missing_value_list = missing_value_names.index.tolist()"
   ]
  },
  {
   "cell_type": "code",
   "execution_count": 20,
   "id": "ab009a4c",
   "metadata": {},
   "outputs": [],
   "source": [
    "#lets clean up some of the top offenders.  we'll brute force this untill we don't have any weird values (beyond missing) in \n",
    "#the top 50 values. \n",
    "for missing_value in missing_value_list:\n",
    "    df_clean.loc[df_clean[\"License Plate\"] == missing_value, \"License Plate\"] = 'MISSING'"
   ]
  },
  {
   "cell_type": "code",
   "execution_count": 21,
   "id": "bd31c53b",
   "metadata": {},
   "outputs": [
    {
     "data": {
      "text/plain": [
       "MISSING                  33538\n",
       "NO INFO.                    40\n",
       "NO INFO                     39\n",
       "??????????                  39\n",
       "7087833                     38\n",
       "DON'T KNOW                  37\n",
       "14520                       37\n",
       "NON                         37\n",
       "NO FRONT PLATE              36\n",
       "CEJAS                       35\n",
       "C869351                     35\n",
       "E650226                     34\n",
       "????????                    34\n",
       "NONE PROVIDED               33\n",
       "1773233                     33\n",
       "XXXXXXX                     32\n",
       "NO PLATES OR STICKER        32\n",
       "V75 8957                    32\n",
       "99999                       31\n",
       "N/P                         31\n",
       "NO PLATES OR STICKERS       30\n",
       "123456                      30\n",
       "TEMPORARY PLATE             30\n",
       "DOESNT KNOW PLATE           29\n",
       "NO PLATES ON VEHICLE        29\n",
       "CAN'T SEE                   29\n",
       "UNKN                        28\n",
       "-                           28\n",
       "P118563                     28\n",
       "BM25626                     28\n",
       "A895425                     28\n",
       "BR 78641                    27\n",
       "528 5859                    27\n",
       "MISSING PLATES..            26\n",
       "7793727                     26\n",
       "N330021                     26\n",
       "NOPLATE                     25\n",
       "INDIANA                     25\n",
       "V606121                     25\n",
       "??????                      25\n",
       "LP                          25\n",
       "TEMPORARY                   25\n",
       "439 702                     25\n",
       "ZZ3 1262                    25\n",
       "BL96452                     24\n",
       "6038978                     24\n",
       "Y737521                     24\n",
       "H96 5525                    24\n",
       "Z416933                     24\n",
       "BR96918                     24\n",
       "Name: License Plate, dtype: int64"
      ]
     },
     "execution_count": 21,
     "metadata": {},
     "output_type": "execute_result"
    }
   ],
   "source": [
    "df_clean['License Plate'].value_counts()[:50]"
   ]
  },
  {
   "cell_type": "code",
   "execution_count": 22,
   "id": "c1f01be4",
   "metadata": {},
   "outputs": [],
   "source": [
    "missing_value_list1 = [\"TEMPORARY PLATES\",\"NO INFO.\",\"??????????\",\"NO INFO\",\"NON\",\"DON'T KNOW\",\"NO FRONT PLATE\",\n",
    "                      \"????????\",\"NONE PROVIDED\",\"NO PLATES OR STICKER\",\"XXXXXXX\",\"N/P\",\"TEMPORARY PLATE\",\"123456\",\n",
    "                       \"NO PLATES OR STICKERS\",\"NO PLATES ON VEHICLE\",\"CAN'T SEE\",\"DOESNT KNOW PLATE\",\"-\",\"UNKN\",\n",
    "                       \"MISSING PLATES..\",\"??????\",\"LP\",\"NOPLATE\",\"INDIANA\"]\n",
    "for missing_value in missing_value_list1:\n",
    "    df_clean.loc[df_clean[\"License Plate\"] == missing_value, \"License Plate\"] = 'MISSING'"
   ]
  },
  {
   "cell_type": "code",
   "execution_count": 23,
   "id": "f2b26dc8",
   "metadata": {},
   "outputs": [
    {
     "data": {
      "text/plain": [
       "MISSING                      34287\n",
       "7087833                         38\n",
       "14520                           37\n",
       "CEJAS                           35\n",
       "C869351                         35\n",
       "E650226                         34\n",
       "1773233                         33\n",
       "V75 8957                        32\n",
       "99999                           31\n",
       "BM25626                         28\n",
       "P118563                         28\n",
       "A895425                         28\n",
       "BR 78641                        27\n",
       "528 5859                        27\n",
       "N330021                         26\n",
       "7793727                         26\n",
       "V606121                         25\n",
       "439 702                         25\n",
       "TEMPORARY                       25\n",
       "ZZ3 1262                        25\n",
       "Z416933                         24\n",
       "H96 5525                        24\n",
       "BR96918                         24\n",
       "Y737521                         24\n",
       "BL96452                         24\n",
       "6038978                         24\n",
       "IL 182 416 AV                   23\n",
       "NOT VISIBLE                     23\n",
       "A142165                         23\n",
       "0000000000000                   23\n",
       "1312529 B-TRUCK PLATE           22\n",
       "E379320                         22\n",
       "UNKNOWN PLATE                   22\n",
       "CANT SEE PLATES                 22\n",
       "1501997                         22\n",
       "140 9816                        22\n",
       "V914659                         22\n",
       "REMOVED                         21\n",
       "NO PLATES ON CAR                21\n",
       "1836357                         21\n",
       "683159                          21\n",
       "HAS A PLATE                     21\n",
       "9680158                         21\n",
       "V776238                         21\n",
       "NO PLATES OR CITY STICKER       21\n",
       "182416AV                        21\n",
       "NOT KNOWN                       20\n",
       "9273324                         20\n",
       "BA76488                         20\n",
       "3570300                         20\n",
       "Name: License Plate, dtype: int64"
      ]
     },
     "execution_count": 23,
     "metadata": {},
     "output_type": "execute_result"
    }
   ],
   "source": [
    "df_clean['License Plate'].value_counts()[:50]"
   ]
  },
  {
   "cell_type": "code",
   "execution_count": 24,
   "id": "fbd11967",
   "metadata": {},
   "outputs": [],
   "source": [
    "missing_value_list2 = [\"TEMPORARY\",\"CANT SEE PLATES\",\"UNKNOWN PLATE\",\"NOT VISIBLE\",\"REMOVED\",\"NO PLATES OR CITY STICKER\",\n",
    "                      \"HAS A PLATE\",\"NO PLATES ON CAR\",\"99999\"]\n",
    "for missing_value in missing_value_list2:\n",
    "    df_clean.loc[df_clean[\"License Plate\"] == missing_value, \"License Plate\"] = 'MISSING'"
   ]
  },
  {
   "cell_type": "code",
   "execution_count": 25,
   "id": "762f98eb",
   "metadata": {},
   "outputs": [
    {
     "data": {
      "text/plain": [
       "MISSING                  34494\n",
       "7087833                     38\n",
       "14520                       37\n",
       "C869351                     35\n",
       "CEJAS                       35\n",
       "E650226                     34\n",
       "1773233                     33\n",
       "V75 8957                    32\n",
       "A895425                     28\n",
       "P118563                     28\n",
       "BM25626                     28\n",
       "528 5859                    27\n",
       "BR 78641                    27\n",
       "N330021                     26\n",
       "7793727                     26\n",
       "V606121                     25\n",
       "ZZ3 1262                    25\n",
       "439 702                     25\n",
       "6038978                     24\n",
       "Y737521                     24\n",
       "BR96918                     24\n",
       "Z416933                     24\n",
       "H96 5525                    24\n",
       "BL96452                     24\n",
       "0000000000000               23\n",
       "IL 182 416 AV               23\n",
       "A142165                     23\n",
       "140 9816                    22\n",
       "1312529 B-TRUCK PLATE       22\n",
       "1501997                     22\n",
       "V914659                     22\n",
       "E379320                     22\n",
       "683159                      21\n",
       "1836357                     21\n",
       "182416AV                    21\n",
       "9680158                     21\n",
       "V776238                     21\n",
       "K716136                     20\n",
       "9273324                     20\n",
       "Y906646                     20\n",
       "3570300                     20\n",
       "R453258                     20\n",
       "MPD288/MN                   20\n",
       "NOT KNOWN                   20\n",
       "BA76488                     20\n",
       "ILLINOIS                    20\n",
       "BK72080                     20\n",
       "K698905                     20\n",
       "YWX256                      19\n",
       "E479760                     19\n",
       "Name: License Plate, dtype: int64"
      ]
     },
     "execution_count": 25,
     "metadata": {},
     "output_type": "execute_result"
    }
   ],
   "source": [
    "df_clean['License Plate'].value_counts()[:50]"
   ]
  },
  {
   "cell_type": "code",
   "execution_count": 26,
   "id": "5cbd6873",
   "metadata": {},
   "outputs": [],
   "source": [
    "missing_value_list3 = [\"NOT KNOWN\",\"NO PLATE NUMBER\",\"0000000000000\",\"NO LICENSE\",\"ILLINOIS\"]\n",
    "for missing_value in missing_value_list3:\n",
    "    df_clean.loc[df_clean[\"License Plate\"] == missing_value, \"License Plate\"] = 'MISSING'"
   ]
  },
  {
   "cell_type": "code",
   "execution_count": 27,
   "id": "b6674a0f",
   "metadata": {},
   "outputs": [
    {
     "data": {
      "text/plain": [
       "MISSING                  34595\n",
       "7087833                     38\n",
       "14520                       37\n",
       "CEJAS                       35\n",
       "C869351                     35\n",
       "E650226                     34\n",
       "1773233                     33\n",
       "V75 8957                    32\n",
       "A895425                     28\n",
       "P118563                     28\n",
       "BM25626                     28\n",
       "528 5859                    27\n",
       "BR 78641                    27\n",
       "N330021                     26\n",
       "7793727                     26\n",
       "V606121                     25\n",
       "439 702                     25\n",
       "ZZ3 1262                    25\n",
       "BL96452                     24\n",
       "H96 5525                    24\n",
       "Y737521                     24\n",
       "6038978                     24\n",
       "BR96918                     24\n",
       "Z416933                     24\n",
       "IL 182 416 AV               23\n",
       "A142165                     23\n",
       "1501997                     22\n",
       "140 9816                    22\n",
       "1312529 B-TRUCK PLATE       22\n",
       "V914659                     22\n",
       "E379320                     22\n",
       "182416AV                    21\n",
       "1836357                     21\n",
       "683159                      21\n",
       "9680158                     21\n",
       "V776238                     21\n",
       "9273324                     20\n",
       "K716136                     20\n",
       "Y906646                     20\n",
       "K698905                     20\n",
       "R453258                     20\n",
       "BK72080                     20\n",
       "BA76488                     20\n",
       "MPD288/MN                   20\n",
       "3570300                     20\n",
       "E479760                     19\n",
       "8039497                     19\n",
       "YWX256                      19\n",
       "L613319                     18\n",
       "CTC5955                     18\n",
       "Name: License Plate, dtype: int64"
      ]
     },
     "execution_count": 27,
     "metadata": {},
     "output_type": "execute_result"
    }
   ],
   "source": [
    "df_clean['License Plate'].value_counts()[:50]"
   ]
  },
  {
   "cell_type": "code",
   "execution_count": 28,
   "id": "524d6102",
   "metadata": {},
   "outputs": [
    {
     "data": {
      "text/html": [
       "<div>\n",
       "<style scoped>\n",
       "    .dataframe tbody tr th:only-of-type {\n",
       "        vertical-align: middle;\n",
       "    }\n",
       "\n",
       "    .dataframe tbody tr th {\n",
       "        vertical-align: top;\n",
       "    }\n",
       "\n",
       "    .dataframe thead th {\n",
       "        text-align: right;\n",
       "    }\n",
       "</style>\n",
       "<table border=\"1\" class=\"dataframe\">\n",
       "  <thead>\n",
       "    <tr style=\"text-align: right;\">\n",
       "      <th></th>\n",
       "      <th>index</th>\n",
       "      <th>Creation Date</th>\n",
       "      <th>Status</th>\n",
       "      <th>Completion Date</th>\n",
       "      <th>Service Request Number</th>\n",
       "      <th>Type of Service Request</th>\n",
       "      <th>License Plate</th>\n",
       "      <th>Vehicle Make/Model</th>\n",
       "      <th>Vehicle Color</th>\n",
       "      <th>Current Activity</th>\n",
       "      <th>...</th>\n",
       "      <th>Police District</th>\n",
       "      <th>Community Area</th>\n",
       "      <th>SSA</th>\n",
       "      <th>Latitude</th>\n",
       "      <th>Longitude</th>\n",
       "      <th>Location</th>\n",
       "      <th>creation_year</th>\n",
       "      <th>creation_month</th>\n",
       "      <th>creation_day</th>\n",
       "      <th>days_reported_clean</th>\n",
       "    </tr>\n",
       "    <tr>\n",
       "      <th>row_number</th>\n",
       "      <th></th>\n",
       "      <th></th>\n",
       "      <th></th>\n",
       "      <th></th>\n",
       "      <th></th>\n",
       "      <th></th>\n",
       "      <th></th>\n",
       "      <th></th>\n",
       "      <th></th>\n",
       "      <th></th>\n",
       "      <th></th>\n",
       "      <th></th>\n",
       "      <th></th>\n",
       "      <th></th>\n",
       "      <th></th>\n",
       "      <th></th>\n",
       "      <th></th>\n",
       "      <th></th>\n",
       "      <th></th>\n",
       "      <th></th>\n",
       "      <th></th>\n",
       "    </tr>\n",
       "  </thead>\n",
       "  <tbody>\n",
       "    <tr>\n",
       "      <th>0</th>\n",
       "      <td>1</td>\n",
       "      <td>01/08/2013</td>\n",
       "      <td>COMPLETED</td>\n",
       "      <td>01/31/2013</td>\n",
       "      <td>13-00028391</td>\n",
       "      <td>ABANDONED VEHICLE COMPLAINT</td>\n",
       "      <td>NaN</td>\n",
       "      <td>NaN</td>\n",
       "      <td>NaN</td>\n",
       "      <td>NaN</td>\n",
       "      <td>...</td>\n",
       "      <td>3.0</td>\n",
       "      <td>69.0</td>\n",
       "      <td>NaN</td>\n",
       "      <td>41.761761</td>\n",
       "      <td>-87.620146</td>\n",
       "      <td>(-87.6201462045411, 41.761761315229464)</td>\n",
       "      <td>2013</td>\n",
       "      <td>1</td>\n",
       "      <td>8</td>\n",
       "      <td>NaN</td>\n",
       "    </tr>\n",
       "    <tr>\n",
       "      <th>1</th>\n",
       "      <td>2</td>\n",
       "      <td>01/09/2013</td>\n",
       "      <td>COMPLETED</td>\n",
       "      <td>01/16/2013</td>\n",
       "      <td>13-00033807</td>\n",
       "      <td>ABANDONED VEHICLE COMPLAINT</td>\n",
       "      <td>6520912</td>\n",
       "      <td>FORD</td>\n",
       "      <td>BLACK</td>\n",
       "      <td>NaN</td>\n",
       "      <td>...</td>\n",
       "      <td>16.0</td>\n",
       "      <td>15.0</td>\n",
       "      <td>NaN</td>\n",
       "      <td>41.961228</td>\n",
       "      <td>-87.770787</td>\n",
       "      <td>(-87.77078664673803, 41.961227786061926)</td>\n",
       "      <td>2013</td>\n",
       "      <td>1</td>\n",
       "      <td>9</td>\n",
       "      <td>35.0</td>\n",
       "    </tr>\n",
       "    <tr>\n",
       "      <th>2</th>\n",
       "      <td>3</td>\n",
       "      <td>01/13/2011</td>\n",
       "      <td>COMPLETED</td>\n",
       "      <td>01/21/2011</td>\n",
       "      <td>11-00062445</td>\n",
       "      <td>ABANDONED VEHICLE COMPLAINT</td>\n",
       "      <td>NaN</td>\n",
       "      <td>NaN</td>\n",
       "      <td>NaN</td>\n",
       "      <td>NaN</td>\n",
       "      <td>...</td>\n",
       "      <td>1.0</td>\n",
       "      <td>32.0</td>\n",
       "      <td>NaN</td>\n",
       "      <td>41.884262</td>\n",
       "      <td>-87.617296</td>\n",
       "      <td>(-87.6172956669855, 41.88426178650276)</td>\n",
       "      <td>2011</td>\n",
       "      <td>1</td>\n",
       "      <td>13</td>\n",
       "      <td>NaN</td>\n",
       "    </tr>\n",
       "    <tr>\n",
       "      <th>3</th>\n",
       "      <td>4</td>\n",
       "      <td>01/14/2011</td>\n",
       "      <td>COMPLETED</td>\n",
       "      <td>01/20/2011</td>\n",
       "      <td>11-00068003</td>\n",
       "      <td>ABANDONED VEHICLE COMPLAINT</td>\n",
       "      <td>NaN</td>\n",
       "      <td>NaN</td>\n",
       "      <td>RED</td>\n",
       "      <td>NaN</td>\n",
       "      <td>...</td>\n",
       "      <td>25.0</td>\n",
       "      <td>25.0</td>\n",
       "      <td>NaN</td>\n",
       "      <td>41.909527</td>\n",
       "      <td>-87.745257</td>\n",
       "      <td>(-87.74525696509336, 41.909526653290804)</td>\n",
       "      <td>2011</td>\n",
       "      <td>1</td>\n",
       "      <td>14</td>\n",
       "      <td>37.0</td>\n",
       "    </tr>\n",
       "    <tr>\n",
       "      <th>4</th>\n",
       "      <td>5</td>\n",
       "      <td>01/15/2013</td>\n",
       "      <td>COMPLETED - DUP</td>\n",
       "      <td>01/18/2013</td>\n",
       "      <td>13-00059298</td>\n",
       "      <td>ABANDONED VEHICLE COMPLAINT</td>\n",
       "      <td>7831706</td>\n",
       "      <td>HONDA</td>\n",
       "      <td>RED</td>\n",
       "      <td>NaN</td>\n",
       "      <td>...</td>\n",
       "      <td>16.0</td>\n",
       "      <td>15.0</td>\n",
       "      <td>28.0</td>\n",
       "      <td>41.956951</td>\n",
       "      <td>-87.748209</td>\n",
       "      <td>(-87.74820854231172, 41.956951185626146)</td>\n",
       "      <td>2013</td>\n",
       "      <td>1</td>\n",
       "      <td>15</td>\n",
       "      <td>60.0</td>\n",
       "    </tr>\n",
       "    <tr>\n",
       "      <th>...</th>\n",
       "      <td>...</td>\n",
       "      <td>...</td>\n",
       "      <td>...</td>\n",
       "      <td>...</td>\n",
       "      <td>...</td>\n",
       "      <td>...</td>\n",
       "      <td>...</td>\n",
       "      <td>...</td>\n",
       "      <td>...</td>\n",
       "      <td>...</td>\n",
       "      <td>...</td>\n",
       "      <td>...</td>\n",
       "      <td>...</td>\n",
       "      <td>...</td>\n",
       "      <td>...</td>\n",
       "      <td>...</td>\n",
       "      <td>...</td>\n",
       "      <td>...</td>\n",
       "      <td>...</td>\n",
       "      <td>...</td>\n",
       "      <td>...</td>\n",
       "    </tr>\n",
       "    <tr>\n",
       "      <th>259707</th>\n",
       "      <td>261481</td>\n",
       "      <td>06/28/2020</td>\n",
       "      <td>OPEN</td>\n",
       "      <td>NaN</td>\n",
       "      <td>20-00045804</td>\n",
       "      <td>ABANDONED VEHICLE COMPLAINT</td>\n",
       "      <td>INDIANA PLATES</td>\n",
       "      <td>PONTIAC</td>\n",
       "      <td>WHITE</td>\n",
       "      <td>NaN</td>\n",
       "      <td>...</td>\n",
       "      <td>8.0</td>\n",
       "      <td>65.0</td>\n",
       "      <td>NaN</td>\n",
       "      <td>41.776167</td>\n",
       "      <td>-87.714002</td>\n",
       "      <td>(-87.71400189140839, 41.77616681243004)</td>\n",
       "      <td>2020</td>\n",
       "      <td>6</td>\n",
       "      <td>28</td>\n",
       "      <td>14.0</td>\n",
       "    </tr>\n",
       "    <tr>\n",
       "      <th>259708</th>\n",
       "      <td>261482</td>\n",
       "      <td>06/21/2020</td>\n",
       "      <td>OPEN</td>\n",
       "      <td>NaN</td>\n",
       "      <td>20-00044400</td>\n",
       "      <td>ABANDONED VEHICLE COMPLAINT</td>\n",
       "      <td>AZ 42642</td>\n",
       "      <td>ACURA</td>\n",
       "      <td>BLACK</td>\n",
       "      <td>INITIAL INSPECTION</td>\n",
       "      <td>...</td>\n",
       "      <td>24.0</td>\n",
       "      <td>2.0</td>\n",
       "      <td>NaN</td>\n",
       "      <td>42.011391</td>\n",
       "      <td>-87.694514</td>\n",
       "      <td>(-87.6945136133502, 42.011391360773)</td>\n",
       "      <td>2020</td>\n",
       "      <td>6</td>\n",
       "      <td>21</td>\n",
       "      <td>NaN</td>\n",
       "    </tr>\n",
       "    <tr>\n",
       "      <th>259709</th>\n",
       "      <td>261483</td>\n",
       "      <td>06/12/2020</td>\n",
       "      <td>OPEN</td>\n",
       "      <td>NaN</td>\n",
       "      <td>20-00042834</td>\n",
       "      <td>ABANDONED VEHICLE COMPLAINT</td>\n",
       "      <td>MISSING</td>\n",
       "      <td>BMW</td>\n",
       "      <td>BLACK</td>\n",
       "      <td>NaN</td>\n",
       "      <td>...</td>\n",
       "      <td>3.0</td>\n",
       "      <td>42.0</td>\n",
       "      <td>NaN</td>\n",
       "      <td>41.776729</td>\n",
       "      <td>-87.602052</td>\n",
       "      <td>(-87.60205170020375, 41.77672884950225)</td>\n",
       "      <td>2020</td>\n",
       "      <td>6</td>\n",
       "      <td>12</td>\n",
       "      <td>NaN</td>\n",
       "    </tr>\n",
       "    <tr>\n",
       "      <th>259710</th>\n",
       "      <td>261484</td>\n",
       "      <td>06/29/2020</td>\n",
       "      <td>OPEN</td>\n",
       "      <td>NaN</td>\n",
       "      <td>20-00046108</td>\n",
       "      <td>ABANDONED VEHICLE COMPLAINT</td>\n",
       "      <td>MISSING</td>\n",
       "      <td>FORD</td>\n",
       "      <td>SILVER</td>\n",
       "      <td>NaN</td>\n",
       "      <td>...</td>\n",
       "      <td>17.0</td>\n",
       "      <td>12.0</td>\n",
       "      <td>NaN</td>\n",
       "      <td>41.986284</td>\n",
       "      <td>-87.744385</td>\n",
       "      <td>(-87.7443846449369, 41.98628353957586)</td>\n",
       "      <td>2020</td>\n",
       "      <td>6</td>\n",
       "      <td>29</td>\n",
       "      <td>7.0</td>\n",
       "    </tr>\n",
       "    <tr>\n",
       "      <th>259711</th>\n",
       "      <td>261485</td>\n",
       "      <td>04/27/2020</td>\n",
       "      <td>OPEN</td>\n",
       "      <td>NaN</td>\n",
       "      <td>20-00034520</td>\n",
       "      <td>ABANDONED VEHICLE COMPLAINT</td>\n",
       "      <td>PAA2336</td>\n",
       "      <td>ACURA</td>\n",
       "      <td>BLACK</td>\n",
       "      <td>NaN</td>\n",
       "      <td>...</td>\n",
       "      <td>2.0</td>\n",
       "      <td>41.0</td>\n",
       "      <td>NaN</td>\n",
       "      <td>41.802183</td>\n",
       "      <td>-87.601217</td>\n",
       "      <td>(-87.60121735019038, 41.80218270388172)</td>\n",
       "      <td>2020</td>\n",
       "      <td>4</td>\n",
       "      <td>27</td>\n",
       "      <td>NaN</td>\n",
       "    </tr>\n",
       "  </tbody>\n",
       "</table>\n",
       "<p>259712 rows × 27 columns</p>\n",
       "</div>"
      ],
      "text/plain": [
       "             index Creation Date           Status Completion Date  \\\n",
       "row_number                                                          \n",
       "0                1    01/08/2013        COMPLETED      01/31/2013   \n",
       "1                2    01/09/2013        COMPLETED      01/16/2013   \n",
       "2                3    01/13/2011        COMPLETED      01/21/2011   \n",
       "3                4    01/14/2011        COMPLETED      01/20/2011   \n",
       "4                5    01/15/2013  COMPLETED - DUP      01/18/2013   \n",
       "...            ...           ...              ...             ...   \n",
       "259707      261481    06/28/2020             OPEN             NaN   \n",
       "259708      261482    06/21/2020             OPEN             NaN   \n",
       "259709      261483    06/12/2020             OPEN             NaN   \n",
       "259710      261484    06/29/2020             OPEN             NaN   \n",
       "259711      261485    04/27/2020             OPEN             NaN   \n",
       "\n",
       "           Service Request Number      Type of Service Request  \\\n",
       "row_number                                                       \n",
       "0                     13-00028391  ABANDONED VEHICLE COMPLAINT   \n",
       "1                     13-00033807  ABANDONED VEHICLE COMPLAINT   \n",
       "2                     11-00062445  ABANDONED VEHICLE COMPLAINT   \n",
       "3                     11-00068003  ABANDONED VEHICLE COMPLAINT   \n",
       "4                     13-00059298  ABANDONED VEHICLE COMPLAINT   \n",
       "...                           ...                          ...   \n",
       "259707                20-00045804  ABANDONED VEHICLE COMPLAINT   \n",
       "259708                20-00044400  ABANDONED VEHICLE COMPLAINT   \n",
       "259709                20-00042834  ABANDONED VEHICLE COMPLAINT   \n",
       "259710                20-00046108  ABANDONED VEHICLE COMPLAINT   \n",
       "259711                20-00034520  ABANDONED VEHICLE COMPLAINT   \n",
       "\n",
       "             License Plate Vehicle Make/Model Vehicle Color  \\\n",
       "row_number                                                    \n",
       "0                      NaN                NaN           NaN   \n",
       "1                  6520912               FORD         BLACK   \n",
       "2                      NaN                NaN           NaN   \n",
       "3                      NaN                NaN           RED   \n",
       "4                  7831706              HONDA           RED   \n",
       "...                    ...                ...           ...   \n",
       "259707      INDIANA PLATES            PONTIAC         WHITE   \n",
       "259708            AZ 42642              ACURA         BLACK   \n",
       "259709             MISSING                BMW         BLACK   \n",
       "259710             MISSING               FORD        SILVER   \n",
       "259711             PAA2336              ACURA         BLACK   \n",
       "\n",
       "              Current Activity  ... Police District  Community Area   SSA  \\\n",
       "row_number                      ...                                         \n",
       "0                          NaN  ...             3.0            69.0   NaN   \n",
       "1                          NaN  ...            16.0            15.0   NaN   \n",
       "2                          NaN  ...             1.0            32.0   NaN   \n",
       "3                          NaN  ...            25.0            25.0   NaN   \n",
       "4                          NaN  ...            16.0            15.0  28.0   \n",
       "...                        ...  ...             ...             ...   ...   \n",
       "259707                     NaN  ...             8.0            65.0   NaN   \n",
       "259708      INITIAL INSPECTION  ...            24.0             2.0   NaN   \n",
       "259709                     NaN  ...             3.0            42.0   NaN   \n",
       "259710                     NaN  ...            17.0            12.0   NaN   \n",
       "259711                     NaN  ...             2.0            41.0   NaN   \n",
       "\n",
       "             Latitude  Longitude                                  Location  \\\n",
       "row_number                                                                   \n",
       "0           41.761761 -87.620146   (-87.6201462045411, 41.761761315229464)   \n",
       "1           41.961228 -87.770787  (-87.77078664673803, 41.961227786061926)   \n",
       "2           41.884262 -87.617296    (-87.6172956669855, 41.88426178650276)   \n",
       "3           41.909527 -87.745257  (-87.74525696509336, 41.909526653290804)   \n",
       "4           41.956951 -87.748209  (-87.74820854231172, 41.956951185626146)   \n",
       "...               ...        ...                                       ...   \n",
       "259707      41.776167 -87.714002   (-87.71400189140839, 41.77616681243004)   \n",
       "259708      42.011391 -87.694514      (-87.6945136133502, 42.011391360773)   \n",
       "259709      41.776729 -87.602052   (-87.60205170020375, 41.77672884950225)   \n",
       "259710      41.986284 -87.744385    (-87.7443846449369, 41.98628353957586)   \n",
       "259711      41.802183 -87.601217   (-87.60121735019038, 41.80218270388172)   \n",
       "\n",
       "            creation_year  creation_month  creation_day  days_reported_clean  \n",
       "row_number                                                                    \n",
       "0                    2013               1             8                  NaN  \n",
       "1                    2013               1             9                 35.0  \n",
       "2                    2011               1            13                  NaN  \n",
       "3                    2011               1            14                 37.0  \n",
       "4                    2013               1            15                 60.0  \n",
       "...                   ...             ...           ...                  ...  \n",
       "259707               2020               6            28                 14.0  \n",
       "259708               2020               6            21                  NaN  \n",
       "259709               2020               6            12                  NaN  \n",
       "259710               2020               6            29                  7.0  \n",
       "259711               2020               4            27                  NaN  \n",
       "\n",
       "[259712 rows x 27 columns]"
      ]
     },
     "execution_count": 28,
     "metadata": {},
     "output_type": "execute_result"
    }
   ],
   "source": [
    "#add a column that has a defined row number.  we can use this after our record linkage to tie back to our\n",
    "#original records. \n",
    "df_clean.reset_index(inplace=True)\n",
    "df_clean.index.names = ['row_number']\n",
    "df_clean"
   ]
  },
  {
   "cell_type": "markdown",
   "id": "91224f3f",
   "metadata": {},
   "source": [
    "### Dedup the dataset"
   ]
  },
  {
   "cell_type": "code",
   "execution_count": 29,
   "id": "715d3b18",
   "metadata": {},
   "outputs": [],
   "source": [
    "#let begin record linkage to de-dup our dataset\n",
    "#we'll look at street address close matches (window = 5 ) \n",
    "#we'll limit our matches by blocking on ward and vehicle make/model. \n",
    "#this means that we'll only consider matches where ward and vehicle make/model match.  \n",
    "#this does mean that we wont have dups reported if they are two different types of vehicles reported\n",
    "#at the same address.  \n",
    "indexer = rl.Index()\n",
    "SN_Index_by_ward = rl.index.SortedNeighbourhood(\"Street Address\",window=5,block_on=['Ward','Vehicle Make/Model'])\n",
    "SN_Index_by_ward_Pairs = SN_Index_by_ward.index(df_clean)\n",
    "#candidate_links = indexer.index(df_clean, df_clean)"
   ]
  },
  {
   "cell_type": "code",
   "execution_count": 30,
   "id": "e5dd3490",
   "metadata": {},
   "outputs": [
    {
     "name": "stdout",
     "output_type": "stream",
     "text": [
      "95042\n"
     ]
    }
   ],
   "source": [
    "#get count of pairs matched by record linkage. \n",
    "print(len(SN_Index_by_ward_Pairs))"
   ]
  },
  {
   "cell_type": "code",
   "execution_count": 31,
   "id": "3e01d6ca",
   "metadata": {},
   "outputs": [],
   "source": [
    "#run comparison across license plate, street address and vehicle color.\n",
    "#Levenshtein similarity score provides higher importance based on the order of the character\n",
    "#jarowinkler similarity score gives more importance to the beginning of the string\n",
    "compare = rl.Compare()\n",
    "compare.string('License Plate','License Plate', method='levenshtein', label = 'License_Plate_score')\n",
    "compare.string('Street Address','Street Address', method='jarowinkler', label = 'Street_Address_score')\n",
    "compare.string('Vehicle Color','Vehicle Color', method='levenshtein', label = 'Color_score')\n",
    "comparison_vectors = compare.compute(SN_Index_by_ward_Pairs,df_clean) "
   ]
  },
  {
   "cell_type": "code",
   "execution_count": 32,
   "id": "72d0c2d1",
   "metadata": {},
   "outputs": [
    {
     "data": {
      "text/plain": [
       "3.000000    41084\n",
       "2.988235        1\n",
       "2.986667        1\n",
       "2.980000        1\n",
       "2.978947        3\n",
       "            ...  \n",
       "0.618519        1\n",
       "0.616402        1\n",
       "0.615476        1\n",
       "0.597339        1\n",
       "0.570906        1\n",
       "Length: 6863, dtype: int64"
      ]
     },
     "execution_count": 32,
     "metadata": {},
     "output_type": "execute_result"
    }
   ],
   "source": [
    "#look at vector counts, looks like 41087 dups are exact matches on the 3 comparison fields. \n",
    "comparison_vectors.sum(axis=1).value_counts().sort_index(ascending=False)"
   ]
  },
  {
   "cell_type": "code",
   "execution_count": 33,
   "id": "200f5765",
   "metadata": {},
   "outputs": [],
   "source": [
    "#here we're setting our match threshold to 2.5.  Anything < 2.5 isn't matched.   2.5 or higher is considered a dup.  \n",
    "matches = comparison_vectors[comparison_vectors.sum(axis=1) > 2.5]"
   ]
  },
  {
   "cell_type": "code",
   "execution_count": 34,
   "id": "1ac227b1",
   "metadata": {},
   "outputs": [
    {
     "data": {
      "text/html": [
       "<div>\n",
       "<style scoped>\n",
       "    .dataframe tbody tr th:only-of-type {\n",
       "        vertical-align: middle;\n",
       "    }\n",
       "\n",
       "    .dataframe tbody tr th {\n",
       "        vertical-align: top;\n",
       "    }\n",
       "\n",
       "    .dataframe thead th {\n",
       "        text-align: right;\n",
       "    }\n",
       "</style>\n",
       "<table border=\"1\" class=\"dataframe\">\n",
       "  <thead>\n",
       "    <tr style=\"text-align: right;\">\n",
       "      <th></th>\n",
       "      <th></th>\n",
       "      <th>License_Plate_score</th>\n",
       "      <th>Street_Address_score</th>\n",
       "      <th>Color_score</th>\n",
       "    </tr>\n",
       "    <tr>\n",
       "      <th>row_number_1</th>\n",
       "      <th>row_number_2</th>\n",
       "      <th></th>\n",
       "      <th></th>\n",
       "      <th></th>\n",
       "    </tr>\n",
       "  </thead>\n",
       "  <tbody>\n",
       "    <tr>\n",
       "      <th rowspan=\"4\" valign=\"top\">11591</th>\n",
       "      <th>4903</th>\n",
       "      <td>1.000</td>\n",
       "      <td>0.852982</td>\n",
       "      <td>1.0</td>\n",
       "    </tr>\n",
       "    <tr>\n",
       "      <th>6254</th>\n",
       "      <td>1.000</td>\n",
       "      <td>0.852982</td>\n",
       "      <td>1.0</td>\n",
       "    </tr>\n",
       "    <tr>\n",
       "      <th>7424</th>\n",
       "      <td>0.875</td>\n",
       "      <td>0.852982</td>\n",
       "      <td>1.0</td>\n",
       "    </tr>\n",
       "    <tr>\n",
       "      <th>10980</th>\n",
       "      <td>1.000</td>\n",
       "      <td>0.852982</td>\n",
       "      <td>1.0</td>\n",
       "    </tr>\n",
       "    <tr>\n",
       "      <th>13578</th>\n",
       "      <th>8767</th>\n",
       "      <td>1.000</td>\n",
       "      <td>0.968889</td>\n",
       "      <td>1.0</td>\n",
       "    </tr>\n",
       "  </tbody>\n",
       "</table>\n",
       "</div>"
      ],
      "text/plain": [
       "                           License_Plate_score  Street_Address_score  \\\n",
       "row_number_1 row_number_2                                              \n",
       "11591        4903                        1.000              0.852982   \n",
       "             6254                        1.000              0.852982   \n",
       "             7424                        0.875              0.852982   \n",
       "             10980                       1.000              0.852982   \n",
       "13578        8767                        1.000              0.968889   \n",
       "\n",
       "                           Color_score  \n",
       "row_number_1 row_number_2               \n",
       "11591        4903                  1.0  \n",
       "             6254                  1.0  \n",
       "             7424                  1.0  \n",
       "             10980                 1.0  \n",
       "13578        8767                  1.0  "
      ]
     },
     "execution_count": 34,
     "metadata": {},
     "output_type": "execute_result"
    }
   ],
   "source": [
    "#this is our list of duplicates\n",
    "matches.head()"
   ]
  },
  {
   "cell_type": "code",
   "execution_count": 35,
   "id": "2d7b158c",
   "metadata": {},
   "outputs": [
    {
     "data": {
      "text/plain": [
       "Int64Index([  4903,   6254,   7424,  10980,   8767,  14222,  27359,  31924,\n",
       "             50477,  63475,\n",
       "            ...\n",
       "            202081, 212695, 107694, 213367, 130915, 216122, 235715, 227547,\n",
       "            228526, 243067],\n",
       "           dtype='int64', name='row_number_2', length=52166)"
      ]
     },
     "execution_count": 35,
     "metadata": {},
     "output_type": "execute_result"
    }
   ],
   "source": [
    "matches_1 = matches.copy()\n",
    "matches_1.index.get_level_values('row_number_2')"
   ]
  },
  {
   "cell_type": "code",
   "execution_count": 36,
   "id": "618305e9",
   "metadata": {},
   "outputs": [],
   "source": [
    "#note that our matches dataframe has a record of duplicate records\n",
    "#we should dedup all the duplicate records in our datamodel to allow for further analysis. \n",
    "row_number_2_list = matches.index.get_level_values(level=1).tolist()  # Zero based indexing.\n",
    "dedup_clean = df_clean.drop(row_number_2_list)"
   ]
  },
  {
   "cell_type": "code",
   "execution_count": 37,
   "id": "5e02c17c",
   "metadata": {},
   "outputs": [],
   "source": [
    "# check dataframe list\n",
    "dedup_clean = dedup_clean.reset_index()"
   ]
  },
  {
   "cell_type": "markdown",
   "id": "9075a894",
   "metadata": {},
   "source": [
    "### Now we create the target variable: complete days"
   ]
  },
  {
   "cell_type": "code",
   "execution_count": 38,
   "id": "8eea9c44",
   "metadata": {},
   "outputs": [
    {
     "data": {
      "text/plain": [
       "row_number                                                     0\n",
       "index                                                          0\n",
       "Creation Date                                                  0\n",
       "Status                                                         0\n",
       "Completion Date                                             3886\n",
       "Service Request Number                                         0\n",
       "Type of Service Request                                        0\n",
       "License Plate                                              20454\n",
       "Vehicle Make/Model                                         21096\n",
       "Vehicle Color                                              15363\n",
       "Current Activity                                           25651\n",
       "Most Recent Action                                         26590\n",
       "How Many Days Has the Vehicle Been Reported as Parked?     39401\n",
       "Street Address                                                 0\n",
       "ZIP Code                                                     109\n",
       "X Coordinate                                               78569\n",
       "Y Coordinate                                               78569\n",
       "Ward                                                           0\n",
       "Police District                                                0\n",
       "Community Area                                                 0\n",
       "SSA                                                       201387\n",
       "Latitude                                                     617\n",
       "Longitude                                                    617\n",
       "Location                                                     617\n",
       "creation_year                                                  0\n",
       "creation_month                                                 0\n",
       "creation_day                                                   0\n",
       "days_reported_clean                                        39401\n",
       "dtype: int64"
      ]
     },
     "execution_count": 38,
     "metadata": {},
     "output_type": "execute_result"
    }
   ],
   "source": [
    "dedup_clean_data = dedup_clean.copy()\n",
    "dedup_clean_data.isnull().sum(axis = 0)"
   ]
  },
  {
   "cell_type": "markdown",
   "id": "4bd42f31",
   "metadata": {},
   "source": [
    "Since that the licencese plate,service request number is a unique id for each row after dedup, we can drop this column.\n",
    "\n",
    "Also notice that the type of service request is identicle in all rows,we should also drop that.\n",
    "\n",
    "also the column how many dates has the vehicle been reported as parked is also duplicate column for days_reported_clean, we should drop this column.\n",
    "\n",
    "we should also address that when having the exact longitude and latitude location, we have the duplicate geopraghic location as X coordinate and Y coordinate which we should drop first.\n",
    "\n",
    "\n",
    "Also we should drop SSA,days_reported_clean which has more than 10% of the whole dataset null values."
   ]
  },
  {
   "cell_type": "code",
   "execution_count": 39,
   "id": "a7c0e569",
   "metadata": {},
   "outputs": [
    {
     "data": {
      "text/html": [
       "<div>\n",
       "<style scoped>\n",
       "    .dataframe tbody tr th:only-of-type {\n",
       "        vertical-align: middle;\n",
       "    }\n",
       "\n",
       "    .dataframe tbody tr th {\n",
       "        vertical-align: top;\n",
       "    }\n",
       "\n",
       "    .dataframe thead th {\n",
       "        text-align: right;\n",
       "    }\n",
       "</style>\n",
       "<table border=\"1\" class=\"dataframe\">\n",
       "  <thead>\n",
       "    <tr style=\"text-align: right;\">\n",
       "      <th></th>\n",
       "      <th>Creation Date</th>\n",
       "      <th>Status</th>\n",
       "      <th>Completion Date</th>\n",
       "      <th>Vehicle Make/Model</th>\n",
       "      <th>Vehicle Color</th>\n",
       "      <th>Current Activity</th>\n",
       "      <th>Most Recent Action</th>\n",
       "      <th>Street Address</th>\n",
       "      <th>ZIP Code</th>\n",
       "      <th>Ward</th>\n",
       "      <th>Police District</th>\n",
       "      <th>Community Area</th>\n",
       "      <th>Latitude</th>\n",
       "      <th>Longitude</th>\n",
       "      <th>creation_year</th>\n",
       "      <th>creation_month</th>\n",
       "      <th>creation_day</th>\n",
       "    </tr>\n",
       "  </thead>\n",
       "  <tbody>\n",
       "    <tr>\n",
       "      <th>0</th>\n",
       "      <td>01/08/2013</td>\n",
       "      <td>COMPLETED</td>\n",
       "      <td>01/31/2013</td>\n",
       "      <td>NaN</td>\n",
       "      <td>NaN</td>\n",
       "      <td>NaN</td>\n",
       "      <td>NaN</td>\n",
       "      <td>7304 S INDIANA AVE</td>\n",
       "      <td>60619.0</td>\n",
       "      <td>6.0</td>\n",
       "      <td>3.0</td>\n",
       "      <td>69.0</td>\n",
       "      <td>41.761761</td>\n",
       "      <td>-87.620146</td>\n",
       "      <td>2013</td>\n",
       "      <td>1</td>\n",
       "      <td>8</td>\n",
       "    </tr>\n",
       "    <tr>\n",
       "      <th>1</th>\n",
       "      <td>01/13/2011</td>\n",
       "      <td>COMPLETED</td>\n",
       "      <td>01/21/2011</td>\n",
       "      <td>NaN</td>\n",
       "      <td>NaN</td>\n",
       "      <td>NaN</td>\n",
       "      <td>NaN</td>\n",
       "      <td>399 E LOWER RANDOLPH ST</td>\n",
       "      <td>60601.0</td>\n",
       "      <td>42.0</td>\n",
       "      <td>1.0</td>\n",
       "      <td>32.0</td>\n",
       "      <td>41.884262</td>\n",
       "      <td>-87.617296</td>\n",
       "      <td>2011</td>\n",
       "      <td>1</td>\n",
       "      <td>13</td>\n",
       "    </tr>\n",
       "    <tr>\n",
       "      <th>2</th>\n",
       "      <td>01/14/2011</td>\n",
       "      <td>COMPLETED</td>\n",
       "      <td>01/20/2011</td>\n",
       "      <td>NaN</td>\n",
       "      <td>RED</td>\n",
       "      <td>NaN</td>\n",
       "      <td>NaN</td>\n",
       "      <td>4741 W NORTH AVE</td>\n",
       "      <td>NaN</td>\n",
       "      <td>37.0</td>\n",
       "      <td>25.0</td>\n",
       "      <td>25.0</td>\n",
       "      <td>41.909527</td>\n",
       "      <td>-87.745257</td>\n",
       "      <td>2011</td>\n",
       "      <td>1</td>\n",
       "      <td>14</td>\n",
       "    </tr>\n",
       "    <tr>\n",
       "      <th>3</th>\n",
       "      <td>01/20/2012</td>\n",
       "      <td>COMPLETED - DUP</td>\n",
       "      <td>01/10/2013</td>\n",
       "      <td>NaN</td>\n",
       "      <td>NaN</td>\n",
       "      <td>NaN</td>\n",
       "      <td>NaN</td>\n",
       "      <td>407 E LOWER WACKER DR</td>\n",
       "      <td>60601.0</td>\n",
       "      <td>42.0</td>\n",
       "      <td>1.0</td>\n",
       "      <td>32.0</td>\n",
       "      <td>41.887331</td>\n",
       "      <td>-87.617133</td>\n",
       "      <td>2012</td>\n",
       "      <td>1</td>\n",
       "      <td>20</td>\n",
       "    </tr>\n",
       "    <tr>\n",
       "      <th>4</th>\n",
       "      <td>01/24/2011</td>\n",
       "      <td>COMPLETED</td>\n",
       "      <td>02/10/2011</td>\n",
       "      <td>NaN</td>\n",
       "      <td>NaN</td>\n",
       "      <td>NaN</td>\n",
       "      <td>NaN</td>\n",
       "      <td>4810 W QUINCY ST</td>\n",
       "      <td>60644.0</td>\n",
       "      <td>28.0</td>\n",
       "      <td>15.0</td>\n",
       "      <td>25.0</td>\n",
       "      <td>41.877796</td>\n",
       "      <td>-87.745662</td>\n",
       "      <td>2011</td>\n",
       "      <td>1</td>\n",
       "      <td>24</td>\n",
       "    </tr>\n",
       "  </tbody>\n",
       "</table>\n",
       "</div>"
      ],
      "text/plain": [
       "  Creation Date           Status Completion Date Vehicle Make/Model  \\\n",
       "0    01/08/2013        COMPLETED      01/31/2013                NaN   \n",
       "1    01/13/2011        COMPLETED      01/21/2011                NaN   \n",
       "2    01/14/2011        COMPLETED      01/20/2011                NaN   \n",
       "3    01/20/2012  COMPLETED - DUP      01/10/2013                NaN   \n",
       "4    01/24/2011        COMPLETED      02/10/2011                NaN   \n",
       "\n",
       "  Vehicle Color Current Activity Most Recent Action           Street Address  \\\n",
       "0           NaN              NaN                NaN       7304 S INDIANA AVE   \n",
       "1           NaN              NaN                NaN  399 E LOWER RANDOLPH ST   \n",
       "2           RED              NaN                NaN         4741 W NORTH AVE   \n",
       "3           NaN              NaN                NaN    407 E LOWER WACKER DR   \n",
       "4           NaN              NaN                NaN         4810 W QUINCY ST   \n",
       "\n",
       "   ZIP Code  Ward  Police District  Community Area   Latitude  Longitude  \\\n",
       "0   60619.0   6.0              3.0            69.0  41.761761 -87.620146   \n",
       "1   60601.0  42.0              1.0            32.0  41.884262 -87.617296   \n",
       "2       NaN  37.0             25.0            25.0  41.909527 -87.745257   \n",
       "3   60601.0  42.0              1.0            32.0  41.887331 -87.617133   \n",
       "4   60644.0  28.0             15.0            25.0  41.877796 -87.745662   \n",
       "\n",
       "   creation_year  creation_month  creation_day  \n",
       "0           2013               1             8  \n",
       "1           2011               1            13  \n",
       "2           2011               1            14  \n",
       "3           2012               1            20  \n",
       "4           2011               1            24  "
      ]
     },
     "execution_count": 39,
     "metadata": {},
     "output_type": "execute_result"
    }
   ],
   "source": [
    "dedup_clean_data = dedup_clean_data.drop(columns = ['index','row_number','Service Request Number','Type of Service Request','SSA','How Many Days Has the Vehicle Been Reported as Parked?','days_reported_clean',\n",
    "                                                    'License Plate','Location','X Coordinate','Y Coordinate'])\n",
    "\n",
    "dedup_clean_data.head()"
   ]
  },
  {
   "cell_type": "code",
   "execution_count": 40,
   "id": "cd048e26",
   "metadata": {},
   "outputs": [],
   "source": [
    "\n",
    "creation_datetime_list = []\n",
    "for dt_string in dedup_clean_data['Creation Date'].tolist():\n",
    "    dt_object1 = datetime.strptime(dt_string, \"%m/%d/%Y\")\n",
    "    creation_datetime_list.append(dt_object1)\n",
    "dedup_clean_data['Creation_Date_datetime']= pd.Series(creation_datetime_list)\n",
    "\n",
    "completion_datetime_list = []\n",
    "for dt_string_1 in dedup_clean_data['Completion Date'].tolist():\n",
    "    dt_object2 = datetime.strptime(dt_string, \"%m/%d/%Y\")\n",
    "    completion_datetime_list.append(dt_object2)\n",
    "dedup_clean_data['Completion_Date_datetime']= pd.Series(completion_datetime_list)\n",
    "\n",
    "dedup_clean_data['Completion_Days'] = (dedup_clean_data['Completion_Date_datetime'] - dedup_clean_data['Creation_Date_datetime']).dt.days"
   ]
  },
  {
   "cell_type": "code",
   "execution_count": 41,
   "id": "015b07ec",
   "metadata": {},
   "outputs": [
    {
     "data": {
      "text/plain": [
       "Creation Date                   0\n",
       "Status                          0\n",
       "Completion Date              3886\n",
       "Vehicle Make/Model          21096\n",
       "Vehicle Color               15363\n",
       "Current Activity            25651\n",
       "Most Recent Action          26590\n",
       "Street Address                  0\n",
       "ZIP Code                      109\n",
       "Ward                            0\n",
       "Police District                 0\n",
       "Community Area                  0\n",
       "Latitude                      617\n",
       "Longitude                     617\n",
       "creation_year                   0\n",
       "creation_month                  0\n",
       "creation_day                    0\n",
       "Creation_Date_datetime          0\n",
       "Completion_Date_datetime        0\n",
       "Completion_Days                 0\n",
       "dtype: int64"
      ]
     },
     "execution_count": 41,
     "metadata": {},
     "output_type": "execute_result"
    }
   ],
   "source": [
    "dedup_clean_data.isnull().sum(axis = 0)"
   ]
  },
  {
   "cell_type": "code",
   "execution_count": 42,
   "id": "d313c859",
   "metadata": {},
   "outputs": [],
   "source": [
    "#since we need is only the creation date which we can fill in as the number afterwards for regression, we should drop the original datetime format of column.\n",
    "dedup_clean_data = dedup_clean_data.drop(columns = ['Creation Date','Status','Completion Date','Street Address','Creation_Date_datetime','Completion_Date_datetime'])"
   ]
  },
  {
   "cell_type": "code",
   "execution_count": 43,
   "id": "e25b4b86",
   "metadata": {},
   "outputs": [
    {
     "data": {
      "text/html": [
       "<div>\n",
       "<style scoped>\n",
       "    .dataframe tbody tr th:only-of-type {\n",
       "        vertical-align: middle;\n",
       "    }\n",
       "\n",
       "    .dataframe tbody tr th {\n",
       "        vertical-align: top;\n",
       "    }\n",
       "\n",
       "    .dataframe thead th {\n",
       "        text-align: right;\n",
       "    }\n",
       "</style>\n",
       "<table border=\"1\" class=\"dataframe\">\n",
       "  <thead>\n",
       "    <tr style=\"text-align: right;\">\n",
       "      <th></th>\n",
       "      <th>Vehicle Make/Model</th>\n",
       "      <th>Vehicle Color</th>\n",
       "      <th>Current Activity</th>\n",
       "      <th>Most Recent Action</th>\n",
       "      <th>ZIP Code</th>\n",
       "      <th>Ward</th>\n",
       "      <th>Police District</th>\n",
       "      <th>Community Area</th>\n",
       "      <th>Latitude</th>\n",
       "      <th>Longitude</th>\n",
       "      <th>creation_year</th>\n",
       "      <th>creation_month</th>\n",
       "      <th>creation_day</th>\n",
       "      <th>Completion_Days</th>\n",
       "    </tr>\n",
       "  </thead>\n",
       "  <tbody>\n",
       "    <tr>\n",
       "      <th>0</th>\n",
       "      <td>NaN</td>\n",
       "      <td>NaN</td>\n",
       "      <td>NaN</td>\n",
       "      <td>NaN</td>\n",
       "      <td>60619.0</td>\n",
       "      <td>6.0</td>\n",
       "      <td>3.0</td>\n",
       "      <td>69.0</td>\n",
       "      <td>41.761761</td>\n",
       "      <td>-87.620146</td>\n",
       "      <td>2013</td>\n",
       "      <td>1</td>\n",
       "      <td>8</td>\n",
       "      <td>2666</td>\n",
       "    </tr>\n",
       "    <tr>\n",
       "      <th>1</th>\n",
       "      <td>NaN</td>\n",
       "      <td>NaN</td>\n",
       "      <td>NaN</td>\n",
       "      <td>NaN</td>\n",
       "      <td>60601.0</td>\n",
       "      <td>42.0</td>\n",
       "      <td>1.0</td>\n",
       "      <td>32.0</td>\n",
       "      <td>41.884262</td>\n",
       "      <td>-87.617296</td>\n",
       "      <td>2011</td>\n",
       "      <td>1</td>\n",
       "      <td>13</td>\n",
       "      <td>3392</td>\n",
       "    </tr>\n",
       "    <tr>\n",
       "      <th>2</th>\n",
       "      <td>NaN</td>\n",
       "      <td>RED</td>\n",
       "      <td>NaN</td>\n",
       "      <td>NaN</td>\n",
       "      <td>NaN</td>\n",
       "      <td>37.0</td>\n",
       "      <td>25.0</td>\n",
       "      <td>25.0</td>\n",
       "      <td>41.909527</td>\n",
       "      <td>-87.745257</td>\n",
       "      <td>2011</td>\n",
       "      <td>1</td>\n",
       "      <td>14</td>\n",
       "      <td>3391</td>\n",
       "    </tr>\n",
       "    <tr>\n",
       "      <th>3</th>\n",
       "      <td>NaN</td>\n",
       "      <td>NaN</td>\n",
       "      <td>NaN</td>\n",
       "      <td>NaN</td>\n",
       "      <td>60601.0</td>\n",
       "      <td>42.0</td>\n",
       "      <td>1.0</td>\n",
       "      <td>32.0</td>\n",
       "      <td>41.887331</td>\n",
       "      <td>-87.617133</td>\n",
       "      <td>2012</td>\n",
       "      <td>1</td>\n",
       "      <td>20</td>\n",
       "      <td>3020</td>\n",
       "    </tr>\n",
       "    <tr>\n",
       "      <th>4</th>\n",
       "      <td>NaN</td>\n",
       "      <td>NaN</td>\n",
       "      <td>NaN</td>\n",
       "      <td>NaN</td>\n",
       "      <td>60644.0</td>\n",
       "      <td>28.0</td>\n",
       "      <td>15.0</td>\n",
       "      <td>25.0</td>\n",
       "      <td>41.877796</td>\n",
       "      <td>-87.745662</td>\n",
       "      <td>2011</td>\n",
       "      <td>1</td>\n",
       "      <td>24</td>\n",
       "      <td>3381</td>\n",
       "    </tr>\n",
       "  </tbody>\n",
       "</table>\n",
       "</div>"
      ],
      "text/plain": [
       "  Vehicle Make/Model Vehicle Color Current Activity Most Recent Action  \\\n",
       "0                NaN           NaN              NaN                NaN   \n",
       "1                NaN           NaN              NaN                NaN   \n",
       "2                NaN           RED              NaN                NaN   \n",
       "3                NaN           NaN              NaN                NaN   \n",
       "4                NaN           NaN              NaN                NaN   \n",
       "\n",
       "   ZIP Code  Ward  Police District  Community Area   Latitude  Longitude  \\\n",
       "0   60619.0   6.0              3.0            69.0  41.761761 -87.620146   \n",
       "1   60601.0  42.0              1.0            32.0  41.884262 -87.617296   \n",
       "2       NaN  37.0             25.0            25.0  41.909527 -87.745257   \n",
       "3   60601.0  42.0              1.0            32.0  41.887331 -87.617133   \n",
       "4   60644.0  28.0             15.0            25.0  41.877796 -87.745662   \n",
       "\n",
       "   creation_year  creation_month  creation_day  Completion_Days  \n",
       "0           2013               1             8             2666  \n",
       "1           2011               1            13             3392  \n",
       "2           2011               1            14             3391  \n",
       "3           2012               1            20             3020  \n",
       "4           2011               1            24             3381  "
      ]
     },
     "execution_count": 43,
     "metadata": {},
     "output_type": "execute_result"
    }
   ],
   "source": [
    "dedup_clean_data.head()"
   ]
  },
  {
   "cell_type": "code",
   "execution_count": 71,
   "id": "b01bb62d",
   "metadata": {},
   "outputs": [
    {
     "name": "stdout",
     "output_type": "stream",
     "text": [
      "<class 'pandas.core.frame.DataFrame'>\n",
      "RangeIndex: 231608 entries, 0 to 231607\n",
      "Data columns (total 14 columns):\n",
      " #   Column              Non-Null Count   Dtype  \n",
      "---  ------              --------------   -----  \n",
      " 0   Vehicle Make/Model  231608 non-null  object \n",
      " 1   Vehicle Color       231608 non-null  object \n",
      " 2   Current Activity    231608 non-null  object \n",
      " 3   Most Recent Action  231608 non-null  object \n",
      " 4   ZIP Code            231608 non-null  float64\n",
      " 5   Ward                231608 non-null  float64\n",
      " 6   Police District     231608 non-null  float64\n",
      " 7   Community Area      231608 non-null  float64\n",
      " 8   Latitude            231608 non-null  float64\n",
      " 9   Longitude           231608 non-null  float64\n",
      " 10  creation_year       231608 non-null  float64\n",
      " 11  creation_month      231608 non-null  float64\n",
      " 12  creation_day        231608 non-null  float64\n",
      " 13  Completion_Days     231608 non-null  int64  \n",
      "dtypes: float64(9), int64(1), object(4)\n",
      "memory usage: 24.7+ MB\n"
     ]
    }
   ],
   "source": [
    "dedup_clean_data.info()"
   ]
  },
  {
   "cell_type": "markdown",
   "id": "ef3d46a4",
   "metadata": {},
   "source": [
    "### Finally, that is the end of the data cleaning process, we generate the label feature, and we have dedup the dataset to prevent the future misleading features"
   ]
  },
  {
   "cell_type": "markdown",
   "id": "85827da0",
   "metadata": {},
   "source": [
    "## 2. Exploratory Data Analysis"
   ]
  },
  {
   "cell_type": "markdown",
   "id": "b9a6be1a",
   "metadata": {},
   "source": [
    "### 2.1 Take a quick look at the data structure"
   ]
  },
  {
   "cell_type": "code",
   "execution_count": 45,
   "id": "b76bd9ac",
   "metadata": {},
   "outputs": [
    {
     "name": "stdout",
     "output_type": "stream",
     "text": [
      "<class 'pandas.core.frame.DataFrame'>\n",
      "RangeIndex: 231608 entries, 0 to 231607\n",
      "Data columns (total 14 columns):\n",
      " #   Column              Non-Null Count   Dtype  \n",
      "---  ------              --------------   -----  \n",
      " 0   Vehicle Make/Model  210512 non-null  object \n",
      " 1   Vehicle Color       216245 non-null  object \n",
      " 2   Current Activity    205957 non-null  object \n",
      " 3   Most Recent Action  205018 non-null  object \n",
      " 4   ZIP Code            231499 non-null  float64\n",
      " 5   Ward                231608 non-null  float64\n",
      " 6   Police District     231608 non-null  float64\n",
      " 7   Community Area      231608 non-null  float64\n",
      " 8   Latitude            230991 non-null  float64\n",
      " 9   Longitude           230991 non-null  float64\n",
      " 10  creation_year       231608 non-null  int64  \n",
      " 11  creation_month      231608 non-null  int64  \n",
      " 12  creation_day        231608 non-null  int64  \n",
      " 13  Completion_Days     231608 non-null  int64  \n",
      "dtypes: float64(6), int64(4), object(4)\n",
      "memory usage: 24.7+ MB\n"
     ]
    }
   ],
   "source": [
    "dedup_clean_data.info()\n",
    "Counter(dedup_clean_data['Current Activity'])\n",
    "dedup_clean_data_show = dedup_clean_data.copy()"
   ]
  },
  {
   "cell_type": "markdown",
   "id": "91e89a71",
   "metadata": {},
   "source": [
    "### 2.2 Class Features"
   ]
  },
  {
   "cell_type": "code",
   "execution_count": 46,
   "id": "393af808",
   "metadata": {},
   "outputs": [],
   "source": [
    "categorical_features = ['Vehicle Make/Model', 'Vehicle Color', 'Current Activity', 'Most Recent Action']\n",
    "numerical_features = ['ZIP Code','Ward','Police District','Community Area','Latitude','Longitude','creation_year','creation_month','creation_day']\n",
    "ordinal_class_feature = ['Current Activity']"
   ]
  },
  {
   "cell_type": "markdown",
   "id": "2b529bc0",
   "metadata": {},
   "source": [
    "### 2.3 Distribution graphs (histogram/bar graph) of column data"
   ]
  },
  {
   "cell_type": "code",
   "execution_count": 47,
   "id": "96263b32",
   "metadata": {},
   "outputs": [],
   "source": [
    "def plotPerColumnDistribution(df, nGraphShown, nGraphPerRow):\n",
    "    nunique = df.nunique()\n",
    "    df = df[[col for col in df if nunique[col] > 1 and nunique[col] < 50]] # For displaying purposes, pick columns that have between 1 and 50 unique values\n",
    "    nRow, nCol = df.shape\n",
    "    columnNames = list(df)\n",
    "    nGraphRow = (nCol + nGraphPerRow - 1) / nGraphPerRow\n",
    "    plt.figure(num = None, figsize = (6 * nGraphPerRow, 8 * nGraphRow), dpi = 80, facecolor = 'w', edgecolor = 'k')\n",
    "    for i in range(min(nCol, nGraphShown)):\n",
    "        plt.subplot(nGraphRow, nGraphPerRow, i + 1)\n",
    "        columnDf = df.iloc[:, i]\n",
    "        if (not np.issubdtype(type(columnDf.iloc[0]), np.number)):\n",
    "            valueCounts = columnDf.value_counts()\n",
    "            valueCounts.plot.bar()\n",
    "        else:\n",
    "            columnDf.hist()\n",
    "        plt.ylabel('counts')\n",
    "        plt.xticks(rotation = 90)\n",
    "        plt.title(f'{columnNames[i]} (column {i})')\n",
    "    plt.tight_layout(pad = 1.0, w_pad = 1.0, h_pad = 1.0)\n",
    "    plt.show()"
   ]
  },
  {
   "cell_type": "markdown",
   "id": "e6c34bca",
   "metadata": {},
   "source": [
    "### 2.4 Correlation Matrix"
   ]
  },
  {
   "cell_type": "code",
   "execution_count": 48,
   "id": "3b868689",
   "metadata": {},
   "outputs": [],
   "source": [
    "def plotCorrelationMatrix(df, graphWidth):\n",
    "    filename = df.dataframeName\n",
    "    df = df.dropna('columns') # drop columns with NaN\n",
    "    df = df[[col for col in df if df[col].nunique() > 1]] # keep columns where there are more than 1 unique values\n",
    "    if df.shape[1] < 2:\n",
    "        print(f'No correlation plots shown: The number of non-NaN or constant columns ({df.shape[1]}) is less than 2')\n",
    "        return\n",
    "    corr = df.corr()\n",
    "    plt.figure(num=None, figsize=(graphWidth, graphWidth), dpi=80,facecolor=None, edgecolor='k')\n",
    "    corrMat = plt.matshow(corr, fignum = 1)\n",
    "    plt.xticks(range(len(corr.columns)), corr.columns, rotation=90)\n",
    "    plt.yticks(range(len(corr.columns)), corr.columns)\n",
    "    plt.gca().xaxis.tick_bottom()\n",
    "    plt.colorbar(corrMat)\n",
    "    plt.title(f'Correlation Matrix for {filename}', fontsize=15)\n",
    "    plt.show()"
   ]
  },
  {
   "cell_type": "markdown",
   "id": "a2e02bf1",
   "metadata": {},
   "source": [
    "### 2.5 Scatter and Density plot"
   ]
  },
  {
   "cell_type": "code",
   "execution_count": 49,
   "id": "70535fa9",
   "metadata": {},
   "outputs": [],
   "source": [
    "def plotScatterMatrix(df, plotSize, textSize):\n",
    "    df = df.select_dtypes(include =[np.number]) # keep only numerical columns\n",
    "    # Remove rows and columns that would lead to df being singular\n",
    "    df = df.dropna('columns')\n",
    "    df = df[[col for col in df if df[col].nunique() > 1]] # keep columns where there are more than 1 unique values\n",
    "    columnNames = list(df)\n",
    "    if len(columnNames) > 10: # reduce the number of columns for matrix inversion of kernel density plots\n",
    "        columnNames = columnNames[:10]\n",
    "    df = df[columnNames]\n",
    "    ax = pd.plotting.scatter_matrix(df, alpha=0.75, figsize=[plotSize, plotSize], diagonal='kde')\n",
    "    corrs = df.corr().values\n",
    "    for i, j in zip(*plt.np.triu_indices_from(ax, k = 1)):\n",
    "        ax[i, j].annotate('Corr. coef = %.3f' % corrs[i, j], (0.8, 0.2), xycoords='axes fraction', ha='center', va='center', size=textSize)\n",
    "    plt.suptitle('Scatter and Density Plot')\n",
    "    plt.show()"
   ]
  },
  {
   "cell_type": "markdown",
   "id": "b6fc7f3e",
   "metadata": {},
   "source": [
    "### 2.6 generate plots"
   ]
  },
  {
   "cell_type": "code",
   "execution_count": 50,
   "id": "bc88391b",
   "metadata": {},
   "outputs": [
    {
     "name": "stdout",
     "output_type": "stream",
     "text": [
      "There are 231608 rows and 14 columns\n"
     ]
    }
   ],
   "source": [
    "nRow, nCol = dedup_clean_data_show.shape\n",
    "dedup_clean_data_show.dataframeName = '311_service_abandoned_vehicle.csv'\n",
    "print(f'There are {nRow} rows and {nCol} columns')"
   ]
  },
  {
   "cell_type": "markdown",
   "id": "6a606821",
   "metadata": {},
   "source": [
    "Distribution graphs (histogram/bar graph) of sampled columns:"
   ]
  },
  {
   "cell_type": "code",
   "execution_count": 51,
   "id": "ceb0f4d2",
   "metadata": {},
   "outputs": [
    {
     "name": "stderr",
     "output_type": "stream",
     "text": [
      "/var/folders/4l/0fc5xvvd01g47wjlznw52ghm0000gn/T/ipykernel_64641/1562888048.py:9: MatplotlibDeprecationWarning: Passing non-integers as three-element position specification is deprecated since 3.3 and will be removed two minor releases later.\n",
      "  plt.subplot(nGraphRow, nGraphPerRow, i + 1)\n"
     ]
    },
    {
     "data": {
      "image/png": "[encoded data removed]",
      "text/plain": [
       "<Figure size 960x2560 with 7 Axes>"
      ]
     },
     "metadata": {},
     "output_type": "display_data"
    }
   ],
   "source": [
    "plotPerColumnDistribution(dedup_clean_data_show, 14, 2)"
   ]
  },
  {
   "cell_type": "markdown",
   "id": "1b323c1b",
   "metadata": {},
   "source": [
    "Correlation matrix:"
   ]
  },
  {
   "cell_type": "code",
   "execution_count": 52,
   "id": "13cd0a7c",
   "metadata": {},
   "outputs": [
    {
     "name": "stderr",
     "output_type": "stream",
     "text": [
      "/var/folders/4l/0fc5xvvd01g47wjlznw52ghm0000gn/T/ipykernel_64641/3125595058.py:3: FutureWarning: In a future version of pandas all arguments of DataFrame.dropna will be keyword-only\n",
      "  df = df.dropna('columns') # drop columns with NaN\n"
     ]
    },
    {
     "data": {
      "image/png": "[encoded data removed]",
      "text/plain": [
       "<Figure size 640x640 with 2 Axes>"
      ]
     },
     "metadata": {
      "needs_background": "light"
     },
     "output_type": "display_data"
    }
   ],
   "source": [
    "plotCorrelationMatrix(dedup_clean_data_show, 8)"
   ]
  },
  {
   "cell_type": "markdown",
   "id": "fce7e792",
   "metadata": {},
   "source": [
    "Scatter and density plots:"
   ]
  },
  {
   "cell_type": "code",
   "execution_count": 53,
   "id": "9924691e",
   "metadata": {},
   "outputs": [
    {
     "name": "stderr",
     "output_type": "stream",
     "text": [
      "/var/folders/4l/0fc5xvvd01g47wjlznw52ghm0000gn/T/ipykernel_64641/844214064.py:4: FutureWarning: In a future version of pandas all arguments of DataFrame.dropna will be keyword-only\n",
      "  df = df.dropna('columns')\n"
     ]
    },
    {
     "data": {
      "image/png": "[encoded data removed]",
      "text/plain": [
       "<Figure size 1440x1440 with 49 Axes>"
      ]
     },
     "metadata": {
      "needs_background": "light"
     },
     "output_type": "display_data"
    }
   ],
   "source": [
    "plotScatterMatrix(dedup_clean_data_show, 20, 10)"
   ]
  },
  {
   "cell_type": "markdown",
   "id": "fb6e1852",
   "metadata": {},
   "source": [
    "## 3. Data preprocessing"
   ]
  },
  {
   "cell_type": "code",
   "execution_count": 54,
   "id": "d1eefcce",
   "metadata": {},
   "outputs": [
    {
     "data": {
      "text/html": [
       "<div>\n",
       "<style scoped>\n",
       "    .dataframe tbody tr th:only-of-type {\n",
       "        vertical-align: middle;\n",
       "    }\n",
       "\n",
       "    .dataframe tbody tr th {\n",
       "        vertical-align: top;\n",
       "    }\n",
       "\n",
       "    .dataframe thead th {\n",
       "        text-align: right;\n",
       "    }\n",
       "</style>\n",
       "<table border=\"1\" class=\"dataframe\">\n",
       "  <thead>\n",
       "    <tr style=\"text-align: right;\">\n",
       "      <th></th>\n",
       "      <th>Vehicle Make/Model</th>\n",
       "      <th>Vehicle Color</th>\n",
       "      <th>Current Activity</th>\n",
       "      <th>Most Recent Action</th>\n",
       "      <th>ZIP Code</th>\n",
       "      <th>Ward</th>\n",
       "      <th>Police District</th>\n",
       "      <th>Community Area</th>\n",
       "      <th>Latitude</th>\n",
       "      <th>Longitude</th>\n",
       "      <th>creation_year</th>\n",
       "      <th>creation_month</th>\n",
       "      <th>creation_day</th>\n",
       "      <th>Completion_Days</th>\n",
       "    </tr>\n",
       "  </thead>\n",
       "  <tbody>\n",
       "    <tr>\n",
       "      <th>0</th>\n",
       "      <td>NaN</td>\n",
       "      <td>NaN</td>\n",
       "      <td>NaN</td>\n",
       "      <td>NaN</td>\n",
       "      <td>60619.0</td>\n",
       "      <td>6.0</td>\n",
       "      <td>3.0</td>\n",
       "      <td>69.0</td>\n",
       "      <td>41.761761</td>\n",
       "      <td>-87.620146</td>\n",
       "      <td>2013</td>\n",
       "      <td>1</td>\n",
       "      <td>8</td>\n",
       "      <td>2666</td>\n",
       "    </tr>\n",
       "    <tr>\n",
       "      <th>1</th>\n",
       "      <td>NaN</td>\n",
       "      <td>NaN</td>\n",
       "      <td>NaN</td>\n",
       "      <td>NaN</td>\n",
       "      <td>60601.0</td>\n",
       "      <td>42.0</td>\n",
       "      <td>1.0</td>\n",
       "      <td>32.0</td>\n",
       "      <td>41.884262</td>\n",
       "      <td>-87.617296</td>\n",
       "      <td>2011</td>\n",
       "      <td>1</td>\n",
       "      <td>13</td>\n",
       "      <td>3392</td>\n",
       "    </tr>\n",
       "    <tr>\n",
       "      <th>2</th>\n",
       "      <td>NaN</td>\n",
       "      <td>RED</td>\n",
       "      <td>NaN</td>\n",
       "      <td>NaN</td>\n",
       "      <td>NaN</td>\n",
       "      <td>37.0</td>\n",
       "      <td>25.0</td>\n",
       "      <td>25.0</td>\n",
       "      <td>41.909527</td>\n",
       "      <td>-87.745257</td>\n",
       "      <td>2011</td>\n",
       "      <td>1</td>\n",
       "      <td>14</td>\n",
       "      <td>3391</td>\n",
       "    </tr>\n",
       "    <tr>\n",
       "      <th>3</th>\n",
       "      <td>NaN</td>\n",
       "      <td>NaN</td>\n",
       "      <td>NaN</td>\n",
       "      <td>NaN</td>\n",
       "      <td>60601.0</td>\n",
       "      <td>42.0</td>\n",
       "      <td>1.0</td>\n",
       "      <td>32.0</td>\n",
       "      <td>41.887331</td>\n",
       "      <td>-87.617133</td>\n",
       "      <td>2012</td>\n",
       "      <td>1</td>\n",
       "      <td>20</td>\n",
       "      <td>3020</td>\n",
       "    </tr>\n",
       "    <tr>\n",
       "      <th>4</th>\n",
       "      <td>NaN</td>\n",
       "      <td>NaN</td>\n",
       "      <td>NaN</td>\n",
       "      <td>NaN</td>\n",
       "      <td>60644.0</td>\n",
       "      <td>28.0</td>\n",
       "      <td>15.0</td>\n",
       "      <td>25.0</td>\n",
       "      <td>41.877796</td>\n",
       "      <td>-87.745662</td>\n",
       "      <td>2011</td>\n",
       "      <td>1</td>\n",
       "      <td>24</td>\n",
       "      <td>3381</td>\n",
       "    </tr>\n",
       "  </tbody>\n",
       "</table>\n",
       "</div>"
      ],
      "text/plain": [
       "  Vehicle Make/Model Vehicle Color Current Activity Most Recent Action  \\\n",
       "0                NaN           NaN              NaN                NaN   \n",
       "1                NaN           NaN              NaN                NaN   \n",
       "2                NaN           RED              NaN                NaN   \n",
       "3                NaN           NaN              NaN                NaN   \n",
       "4                NaN           NaN              NaN                NaN   \n",
       "\n",
       "   ZIP Code  Ward  Police District  Community Area   Latitude  Longitude  \\\n",
       "0   60619.0   6.0              3.0            69.0  41.761761 -87.620146   \n",
       "1   60601.0  42.0              1.0            32.0  41.884262 -87.617296   \n",
       "2       NaN  37.0             25.0            25.0  41.909527 -87.745257   \n",
       "3   60601.0  42.0              1.0            32.0  41.887331 -87.617133   \n",
       "4   60644.0  28.0             15.0            25.0  41.877796 -87.745662   \n",
       "\n",
       "   creation_year  creation_month  creation_day  Completion_Days  \n",
       "0           2013               1             8             2666  \n",
       "1           2011               1            13             3392  \n",
       "2           2011               1            14             3391  \n",
       "3           2012               1            20             3020  \n",
       "4           2011               1            24             3381  "
      ]
     },
     "execution_count": 54,
     "metadata": {},
     "output_type": "execute_result"
    }
   ],
   "source": [
    "dedup_clean_data.head()"
   ]
  },
  {
   "cell_type": "code",
   "execution_count": 55,
   "id": "8c66b780",
   "metadata": {
    "scrolled": true
   },
   "outputs": [
    {
     "data": {
      "text/plain": [
       "Vehicle Make/Model    21096\n",
       "Vehicle Color         15363\n",
       "Current Activity      25651\n",
       "Most Recent Action    26590\n",
       "ZIP Code                109\n",
       "Ward                      0\n",
       "Police District           0\n",
       "Community Area            0\n",
       "Latitude                617\n",
       "Longitude               617\n",
       "creation_year             0\n",
       "creation_month            0\n",
       "creation_day              0\n",
       "Completion_Days           0\n",
       "dtype: int64"
      ]
     },
     "execution_count": 55,
     "metadata": {},
     "output_type": "execute_result"
    }
   ],
   "source": [
    "dedup_clean_data.isna().sum(axis=0)"
   ]
  },
  {
   "cell_type": "markdown",
   "id": "0e31867b",
   "metadata": {},
   "source": [
    "### 3.1 Class features"
   ]
  },
  {
   "cell_type": "code",
   "execution_count": 56,
   "id": "3d9bf1f4",
   "metadata": {},
   "outputs": [],
   "source": [
    "categorical_features = ['Vehicle Make/Model', 'Vehicle Color', 'Current Activity', 'Most Recent Action']\n",
    "numerical_features = ['ZIP Code','Ward','Police District','Community Area','Latitude','Longitude','creation_year','creation_month','creation_day']\n",
    "ordinal_class_feature = ['Current Activity']\n",
    "multi_class_features = ['Vehicle Make/Model', 'Vehicle Color', 'Most Recent Action']"
   ]
  },
  {
   "cell_type": "markdown",
   "id": "430a4803",
   "metadata": {},
   "source": [
    "### 3.2 Impute the numerical NAs:"
   ]
  },
  {
   "cell_type": "code",
   "execution_count": 57,
   "id": "12374413",
   "metadata": {},
   "outputs": [
    {
     "data": {
      "text/plain": [
       "Vehicle Make/Model    21096\n",
       "Vehicle Color         15363\n",
       "Current Activity      25651\n",
       "Most Recent Action    26590\n",
       "ZIP Code                  0\n",
       "Ward                      0\n",
       "Police District           0\n",
       "Community Area            0\n",
       "Latitude                  0\n",
       "Longitude                 0\n",
       "creation_year             0\n",
       "creation_month            0\n",
       "creation_day              0\n",
       "Completion_Days           0\n",
       "dtype: int64"
      ]
     },
     "execution_count": 57,
     "metadata": {},
     "output_type": "execute_result"
    }
   ],
   "source": [
    "# filling NA with mean value\n",
    "imp = SimpleImputer(missing_values=np.nan, strategy='mean')\n",
    "dedup_clean_data[numerical_features] = pd.DataFrame(imp.fit_transform(dedup_clean_data[numerical_features]))\n",
    "dedup_clean_data.isna().sum(axis=0)"
   ]
  },
  {
   "cell_type": "markdown",
   "id": "0c6d978f",
   "metadata": {},
   "source": [
    "### 3.2 Impute the Categorical NAs"
   ]
  },
  {
   "cell_type": "code",
   "execution_count": 58,
   "id": "6e4b2e3f",
   "metadata": {},
   "outputs": [
    {
     "data": {
      "text/plain": [
       "Vehicle Make/Model    0\n",
       "Vehicle Color         0\n",
       "Current Activity      0\n",
       "Most Recent Action    0\n",
       "ZIP Code              0\n",
       "Ward                  0\n",
       "Police District       0\n",
       "Community Area        0\n",
       "Latitude              0\n",
       "Longitude             0\n",
       "creation_year         0\n",
       "creation_month        0\n",
       "creation_day          0\n",
       "Completion_Days       0\n",
       "dtype: int64"
      ]
     },
     "execution_count": 58,
     "metadata": {},
     "output_type": "execute_result"
    }
   ],
   "source": [
    "# filling NA with most common class\n",
    "dedup_clean_data[categorical_features] = dedup_clean_data[categorical_features].apply(lambda x: x.fillna(x.value_counts().index[0]))\n",
    "dedup_clean_data.isna().sum(axis=0)"
   ]
  },
  {
   "cell_type": "markdown",
   "id": "5e5bc961",
   "metadata": {},
   "source": [
    "### 3.3 Handling with categorical and text variables"
   ]
  },
  {
   "cell_type": "code",
   "execution_count": 59,
   "id": "04b89e8d",
   "metadata": {},
   "outputs": [],
   "source": [
    "data = dedup_clean_data.copy()\n",
    "\n",
    "X = data[multi_class_features]\n",
    "ohe = OneHotEncoder()\n",
    "ohe.fit_transform(X).toarray()\n",
    "multi_class_encoded_data = pd.DataFrame(ohe.fit_transform(X).toarray()).rename(columns={i: v \n",
    "                        for i, v in enumerate(ohe.get_feature_names())})\n",
    "\n",
    "Y = data[ordinal_class_feature]\n",
    "# specify the order with categories parameter\n",
    "enc = OrdinalEncoder(categories=[('PLACE 7 DAY STICKER','INITIAL INSPECTION','FVI - OUTCOME')])\n",
    "ordinal_class_encoded_data = enc.fit_transform(Y)\n",
    "ordinal_class_encoded_data = pd.DataFrame(ordinal_class_encoded_data).rename(columns = {0:'Current Activity'})"
   ]
  },
  {
   "cell_type": "code",
   "execution_count": 60,
   "id": "83810d79",
   "metadata": {},
   "outputs": [],
   "source": [
    "df_test = pd.concat([data[numerical_features], multi_class_encoded_data,ordinal_class_encoded_data,data['Completion_Days']], axis=1)"
   ]
  },
  {
   "cell_type": "code",
   "execution_count": 61,
   "id": "436b613a",
   "metadata": {
    "scrolled": true
   },
   "outputs": [
    {
     "name": "stdout",
     "output_type": "stream",
     "text": [
      "<class 'pandas.core.frame.DataFrame'>\n",
      "RangeIndex: 231608 entries, 0 to 231607\n",
      "Columns: 205 entries, ZIP Code to Completion_Days\n",
      "dtypes: float64(204), int64(1)\n",
      "memory usage: 362.2 MB\n"
     ]
    }
   ],
   "source": [
    "df_test.info()"
   ]
  },
  {
   "cell_type": "markdown",
   "id": "92138fd2",
   "metadata": {},
   "source": [
    "### 3.4 Standard Scaling"
   ]
  },
  {
   "cell_type": "markdown",
   "id": "d6059f9c",
   "metadata": {},
   "source": [
    "### 3.5 Train Test Split"
   ]
  },
  {
   "cell_type": "code",
   "execution_count": 62,
   "id": "7ec2d9f7",
   "metadata": {},
   "outputs": [],
   "source": [
    "# split data into training and testing\n",
    "X = df_test.drop(columns = ['Completion_Days'])\n",
    "y = df_test['Completion_Days']"
   ]
  },
  {
   "cell_type": "code",
   "execution_count": 63,
   "id": "56ec5213",
   "metadata": {},
   "outputs": [],
   "source": [
    "\n",
    "\n",
    "X_train, X_test, y_train, y_test = train_test_split(X, y, \n",
    "                                                    test_size=0.2, \n",
    "                                                    random_state=42)\n",
    "\n",
    "train_data = pd.concat([X_train,y_train], axis=1)\n",
    "test_data = pd.concat([X_test,y_test], axis=1)"
   ]
  },
  {
   "cell_type": "markdown",
   "id": "4fe187f2",
   "metadata": {},
   "source": [
    "### 3.5 Scale the features into standard scaling"
   ]
  },
  {
   "cell_type": "code",
   "execution_count": 64,
   "id": "febc9686",
   "metadata": {},
   "outputs": [],
   "source": [
    "\n",
    "\n",
    "max_abs_scaler = MaxAbsScaler()\n",
    "X_train = max_abs_scaler.fit_transform(X_train)\n",
    "X_test = max_abs_scaler.transform(X_test)"
   ]
  },
  {
   "cell_type": "markdown",
   "id": "f9231283",
   "metadata": {},
   "source": [
    "## 4.Model Training"
   ]
  },
  {
   "cell_type": "markdown",
   "id": "358bcbb4",
   "metadata": {},
   "source": [
    "### 4.1 A simple Linear regression"
   ]
  },
  {
   "cell_type": "markdown",
   "id": "854d6140",
   "metadata": {},
   "source": [
    "When we model a linear relationship between a response and just one explanatory variable, this is called simple linear regression. I want to predict the days to complete the service and then, our response variable is creation_days. However, for a simple model we also need to select a feature. When I look at the columns of the dataset, police district seemed the most important feature. When we examine the correlation matrix, we may observe that price has the highest correlation coefficient with police district and this also supports my opinion. Thus, I decided to use living area (sqft) as feature but if you want to examine the relationship between price and another feature, you may prefer that feature."
   ]
  },
  {
   "cell_type": "code",
   "execution_count": 65,
   "id": "ba093899",
   "metadata": {},
   "outputs": [
    {
     "name": "stdout",
     "output_type": "stream",
     "text": [
      "Average Price for Test Data: 1510.144\n",
      "Intercept: 1467.7774126905858\n",
      "Coefficient: [4.03588392]\n"
     ]
    },
    {
     "data": {
      "text/html": [
       "<div>\n",
       "<style scoped>\n",
       "    .dataframe tbody tr th:only-of-type {\n",
       "        vertical-align: middle;\n",
       "    }\n",
       "\n",
       "    .dataframe tbody tr th {\n",
       "        vertical-align: top;\n",
       "    }\n",
       "\n",
       "    .dataframe thead th {\n",
       "        text-align: right;\n",
       "    }\n",
       "</style>\n",
       "<table border=\"1\" class=\"dataframe\">\n",
       "  <thead>\n",
       "    <tr style=\"text-align: right;\">\n",
       "      <th></th>\n",
       "      <th>Model</th>\n",
       "      <th>Details</th>\n",
       "      <th>Root Mean Squared Error (RMSE)</th>\n",
       "      <th>R-squared (training)</th>\n",
       "      <th>Adjusted R-squared (training)</th>\n",
       "      <th>R-squared (test)</th>\n",
       "      <th>Adjusted R-squared (test)</th>\n",
       "      <th>5-Fold Cross Validation</th>\n",
       "    </tr>\n",
       "  </thead>\n",
       "  <tbody>\n",
       "    <tr>\n",
       "      <th>0</th>\n",
       "      <td>Simple Linear Regression</td>\n",
       "      <td>-</td>\n",
       "      <td>988.344</td>\n",
       "      <td>0.001</td>\n",
       "      <td>-</td>\n",
       "      <td>0.001</td>\n",
       "      <td>-</td>\n",
       "      <td>-27.27</td>\n",
       "    </tr>\n",
       "  </tbody>\n",
       "</table>\n",
       "</div>"
      ],
      "text/plain": [
       "                      Model Details  Root Mean Squared Error (RMSE)  \\\n",
       "0  Simple Linear Regression       -                         988.344   \n",
       "\n",
       "   R-squared (training) Adjusted R-squared (training)  R-squared (test)  \\\n",
       "0                 0.001                             -             0.001   \n",
       "\n",
       "  Adjusted R-squared (test)  5-Fold Cross Validation  \n",
       "0                         -                   -27.27  "
      ]
     },
     "execution_count": 65,
     "metadata": {},
     "output_type": "execute_result"
    }
   ],
   "source": [
    "\n",
    "\n",
    "\n",
    "lr = LinearRegression()\n",
    "X_train = np.array(train_data['Police District'], dtype=pd.Series).reshape(-1,1)\n",
    "y_train = np.array(train_data['Completion_Days'], dtype=pd.Series)\n",
    "lr.fit(X_train,y_train)\n",
    "\n",
    "X_test = np.array(test_data['Police District'], dtype=pd.Series).reshape(-1,1)\n",
    "y_test = np.array(test_data['Completion_Days'], dtype=pd.Series)\n",
    "\n",
    "pred = lr.predict(X_test)\n",
    "rmsesm = float(format(np.sqrt(metrics.mean_squared_error(y_test,pred)),'.3f'))\n",
    "rtrsm = float(format(lr.score(X_train, y_train),'.3f'))\n",
    "rtesm = float(format(lr.score(X_test, y_test),'.3f'))\n",
    "cv = float(format(cross_val_score(lr,df_test[['Police District']],df_test['Completion_Days'],cv=5).mean(),'.3f'))\n",
    "\n",
    "print (\"Average Price for Test Data: {:.3f}\".format(y_test.mean()))\n",
    "print('Intercept: {}'.format(lr.intercept_))\n",
    "print('Coefficient: {}'.format(lr.coef_))\n",
    "\n",
    "r = evaluation.shape[0]\n",
    "evaluation.loc[r] = ['Simple Linear Regression','-',rmsesm,rtrsm,'-',rtesm,'-',cv]\n",
    "evaluation"
   ]
  },
  {
   "cell_type": "code",
   "execution_count": 66,
   "id": "5a1cfc18",
   "metadata": {},
   "outputs": [
    {
     "data": {
      "image/png": "[encoded data removed]",
      "text/plain": [
       "<Figure size 468x360 with 1 Axes>"
      ]
     },
     "metadata": {},
     "output_type": "display_data"
    }
   ],
   "source": [
    "# let's show our result for this prediction\n",
    "sns.set(style=\"white\", font_scale=1)\n",
    "plt.figure(figsize=(6.5,5))\n",
    "plt.scatter(X_test,y_test,color='darkgreen',label=\"Data\", alpha=.1)\n",
    "plt.plot(X_test,lr.predict(X_test),color=\"red\",label=\"Predicted Regression Line\")\n",
    "plt.xlabel(\"Police District\", fontsize=15)\n",
    "plt.ylabel(\"Days to Complete\", fontsize=15)\n",
    "plt.xticks(fontsize=13)\n",
    "plt.yticks(fontsize=13)\n",
    "plt.legend()\n",
    "\n",
    "plt.gca().spines['right'].set_visible(False)\n",
    "plt.gca().spines['top'].set_visible(False)"
   ]
  },
  {
   "cell_type": "markdown",
   "id": "929b7fd3",
   "metadata": {},
   "source": [
    "Obviously, this is far from precise for a simple linear regression for the correct value. Let's figure out some regression with the whole features"
   ]
  },
  {
   "cell_type": "markdown",
   "id": "fc36e052",
   "metadata": {},
   "source": [
    "### 4.2 Multiple Feature Linear Regression"
   ]
  },
  {
   "cell_type": "markdown",
   "id": "96583473",
   "metadata": {},
   "source": [
    "The R-squared increases when the number of features increase. Because of this, sometimes a more robust evaluator is preferred to compare the performance between different models. This evaluater is called adjusted R-squared and it only increases, if the addition of the variable reduces the MSE. "
   ]
  },
  {
   "cell_type": "code",
   "execution_count": 67,
   "id": "5cf631ed",
   "metadata": {},
   "outputs": [],
   "source": [
    "def adjustedR2(r2,n,k):\n",
    "    return r2-(k-1)/(n-k)*(1-r2)"
   ]
  },
  {
   "cell_type": "markdown",
   "id": "81e64684",
   "metadata": {},
   "source": [
    "Now let's dig in"
   ]
  },
  {
   "cell_type": "code",
   "execution_count": 68,
   "id": "85e0b8f6",
   "metadata": {},
   "outputs": [
    {
     "name": "stdout",
     "output_type": "stream",
     "text": [
      "Intercept: 1467.7774126905858\n",
      "Coefficients: [4.03588392]\n"
     ]
    },
    {
     "data": {
      "text/html": [
       "<div>\n",
       "<style scoped>\n",
       "    .dataframe tbody tr th:only-of-type {\n",
       "        vertical-align: middle;\n",
       "    }\n",
       "\n",
       "    .dataframe tbody tr th {\n",
       "        vertical-align: top;\n",
       "    }\n",
       "\n",
       "    .dataframe thead th {\n",
       "        text-align: right;\n",
       "    }\n",
       "</style>\n",
       "<table border=\"1\" class=\"dataframe\">\n",
       "  <thead>\n",
       "    <tr style=\"text-align: right;\">\n",
       "      <th></th>\n",
       "      <th>Model</th>\n",
       "      <th>Details</th>\n",
       "      <th>Root Mean Squared Error (RMSE)</th>\n",
       "      <th>R-squared (training)</th>\n",
       "      <th>Adjusted R-squared (training)</th>\n",
       "      <th>R-squared (test)</th>\n",
       "      <th>Adjusted R-squared (test)</th>\n",
       "      <th>5-Fold Cross Validation</th>\n",
       "    </tr>\n",
       "  </thead>\n",
       "  <tbody>\n",
       "    <tr>\n",
       "      <th>1</th>\n",
       "      <td>Multiple Regression-4</td>\n",
       "      <td>all features</td>\n",
       "      <td>987.905</td>\n",
       "      <td>0.001</td>\n",
       "      <td>-0.0</td>\n",
       "      <td>0.001</td>\n",
       "      <td>-0.004</td>\n",
       "      <td>1.00</td>\n",
       "    </tr>\n",
       "    <tr>\n",
       "      <th>0</th>\n",
       "      <td>Simple Linear Regression</td>\n",
       "      <td>-</td>\n",
       "      <td>988.344</td>\n",
       "      <td>0.001</td>\n",
       "      <td>-</td>\n",
       "      <td>0.001</td>\n",
       "      <td>-</td>\n",
       "      <td>-27.27</td>\n",
       "    </tr>\n",
       "  </tbody>\n",
       "</table>\n",
       "</div>"
      ],
      "text/plain": [
       "                      Model       Details  Root Mean Squared Error (RMSE)  \\\n",
       "1     Multiple Regression-4  all features                         987.905   \n",
       "0  Simple Linear Regression             -                         988.344   \n",
       "\n",
       "   R-squared (training) Adjusted R-squared (training)  R-squared (test)  \\\n",
       "1                 0.001                          -0.0             0.001   \n",
       "0                 0.001                             -             0.001   \n",
       "\n",
       "  Adjusted R-squared (test)  5-Fold Cross Validation  \n",
       "1                    -0.004                     1.00  \n",
       "0                         -                   -27.27  "
      ]
     },
     "execution_count": 68,
     "metadata": {},
     "output_type": "execute_result"
    }
   ],
   "source": [
    "complex_model_1 = LinearRegression()\n",
    "complex_model_1.fit(X_train,y_train)\n",
    "\n",
    "print('Intercept: {}'.format(complex_model_1.intercept_))\n",
    "print('Coefficients: {}'.format(complex_model_1.coef_))\n",
    "\n",
    "pred = complex_model_1.predict(X_train)\n",
    "rmsecm = float(format(np.sqrt(metrics.mean_squared_error(y_train,pred)),'.3f'))\n",
    "rtrcm = float(format(complex_model_1.score(X_train,y_train),'.3f'))\n",
    "artrcm = float(format(adjustedR2(complex_model_1.score(X_train,y_train),train_data.shape[0],204),'.3f'))\n",
    "rtecm = float(format(complex_model_1.score(X_test,y_test),'.3f'))\n",
    "artecm = float(format(adjustedR2(complex_model_1.score(X_test,y_test),test_data.shape[0],204),'.3f'))\n",
    "cv = float(format(cross_val_score(complex_model_1,X,y,cv=5).mean(),'.3f'))\n",
    "\n",
    "r = evaluation.shape[0]\n",
    "evaluation.loc[r] = ['Multiple Regression-4','all features',rmsecm,rtrcm,artrcm,rtecm,artecm,cv]\n",
    "evaluation.sort_values(by = '5-Fold Cross Validation', ascending=False)"
   ]
  },
  {
   "cell_type": "markdown",
   "id": "319e4c2f",
   "metadata": {},
   "source": [
    "### 4.3 Ridge(L1) Regularization"
   ]
  },
  {
   "cell_type": "code",
   "execution_count": 69,
   "id": "69f3f6db",
   "metadata": {},
   "outputs": [
    {
     "data": {
      "text/html": [
       "<div>\n",
       "<style scoped>\n",
       "    .dataframe tbody tr th:only-of-type {\n",
       "        vertical-align: middle;\n",
       "    }\n",
       "\n",
       "    .dataframe tbody tr th {\n",
       "        vertical-align: top;\n",
       "    }\n",
       "\n",
       "    .dataframe thead th {\n",
       "        text-align: right;\n",
       "    }\n",
       "</style>\n",
       "<table border=\"1\" class=\"dataframe\">\n",
       "  <thead>\n",
       "    <tr style=\"text-align: right;\">\n",
       "      <th></th>\n",
       "      <th>Model</th>\n",
       "      <th>Details</th>\n",
       "      <th>Root Mean Squared Error (RMSE)</th>\n",
       "      <th>R-squared (training)</th>\n",
       "      <th>Adjusted R-squared (training)</th>\n",
       "      <th>R-squared (test)</th>\n",
       "      <th>Adjusted R-squared (test)</th>\n",
       "      <th>5-Fold Cross Validation</th>\n",
       "    </tr>\n",
       "  </thead>\n",
       "  <tbody>\n",
       "    <tr>\n",
       "      <th>1</th>\n",
       "      <td>Multiple Regression-4</td>\n",
       "      <td>all features</td>\n",
       "      <td>987.905</td>\n",
       "      <td>0.001</td>\n",
       "      <td>-0.0</td>\n",
       "      <td>0.001</td>\n",
       "      <td>-0.004</td>\n",
       "      <td>1.00</td>\n",
       "    </tr>\n",
       "    <tr>\n",
       "      <th>2</th>\n",
       "      <td>Ridge Regression</td>\n",
       "      <td>alpha=1, all features</td>\n",
       "      <td>988.344</td>\n",
       "      <td>0.001</td>\n",
       "      <td>-0.0</td>\n",
       "      <td>0.001</td>\n",
       "      <td>-0.004</td>\n",
       "      <td>1.00</td>\n",
       "    </tr>\n",
       "    <tr>\n",
       "      <th>3</th>\n",
       "      <td>Ridge Regression</td>\n",
       "      <td>alpha=100, all features</td>\n",
       "      <td>988.344</td>\n",
       "      <td>0.001</td>\n",
       "      <td>-0.0</td>\n",
       "      <td>0.001</td>\n",
       "      <td>-0.004</td>\n",
       "      <td>1.00</td>\n",
       "    </tr>\n",
       "    <tr>\n",
       "      <th>4</th>\n",
       "      <td>Ridge Regression</td>\n",
       "      <td>alpha=1000, all features</td>\n",
       "      <td>988.344</td>\n",
       "      <td>0.001</td>\n",
       "      <td>-0.0</td>\n",
       "      <td>0.001</td>\n",
       "      <td>-0.004</td>\n",
       "      <td>1.00</td>\n",
       "    </tr>\n",
       "    <tr>\n",
       "      <th>0</th>\n",
       "      <td>Simple Linear Regression</td>\n",
       "      <td>-</td>\n",
       "      <td>988.344</td>\n",
       "      <td>0.001</td>\n",
       "      <td>-</td>\n",
       "      <td>0.001</td>\n",
       "      <td>-</td>\n",
       "      <td>-27.27</td>\n",
       "    </tr>\n",
       "  </tbody>\n",
       "</table>\n",
       "</div>"
      ],
      "text/plain": [
       "                      Model                   Details  \\\n",
       "1     Multiple Regression-4              all features   \n",
       "2          Ridge Regression     alpha=1, all features   \n",
       "3          Ridge Regression   alpha=100, all features   \n",
       "4          Ridge Regression  alpha=1000, all features   \n",
       "0  Simple Linear Regression                         -   \n",
       "\n",
       "   Root Mean Squared Error (RMSE)  R-squared (training)  \\\n",
       "1                         987.905                 0.001   \n",
       "2                         988.344                 0.001   \n",
       "3                         988.344                 0.001   \n",
       "4                         988.344                 0.001   \n",
       "0                         988.344                 0.001   \n",
       "\n",
       "  Adjusted R-squared (training)  R-squared (test) Adjusted R-squared (test)  \\\n",
       "1                          -0.0             0.001                    -0.004   \n",
       "2                          -0.0             0.001                    -0.004   \n",
       "3                          -0.0             0.001                    -0.004   \n",
       "4                          -0.0             0.001                    -0.004   \n",
       "0                             -             0.001                         -   \n",
       "\n",
       "   5-Fold Cross Validation  \n",
       "1                     1.00  \n",
       "2                     1.00  \n",
       "3                     1.00  \n",
       "4                     1.00  \n",
       "0                   -27.27  "
      ]
     },
     "execution_count": 69,
     "metadata": {},
     "output_type": "execute_result"
    }
   ],
   "source": [
    "\n",
    "complex_model_R = linear_model.Ridge(alpha=1)\n",
    "complex_model_R.fit(X_train,y_train)\n",
    "\n",
    "pred1 = complex_model_R.predict(X_test)\n",
    "rmsecm1 = float(format(np.sqrt(metrics.mean_squared_error(y_test,pred1)),'.3f'))\n",
    "rtrcm1 = float(format(complex_model_R.score(X_train,y_train),'.3f'))\n",
    "artrcm1 = float(format(adjustedR2(complex_model_R.score(X_train,y_train),train_data.shape[0],204),'.3f'))\n",
    "rtecm1 = float(format(complex_model_R.score(X_test,y_test),'.3f'))\n",
    "artecm1 = float(format(adjustedR2(complex_model_R.score(X_test,y_test),test_data.shape[0],204),'.3f'))\n",
    "cv1 = float(format(cross_val_score(complex_model_R,X,y,cv=5).mean(),'.3f'))\n",
    "\n",
    "complex_model_R = linear_model.Ridge(alpha=100)\n",
    "complex_model_R.fit(X_train,y_train)\n",
    "\n",
    "pred2 = complex_model_R.predict(X_test)\n",
    "rmsecm2 = float(format(np.sqrt(metrics.mean_squared_error(y_test,pred1)),'.3f'))\n",
    "rtrcm2 = float(format(complex_model_R.score(X_train,y_train),'.3f'))\n",
    "artrcm2 = float(format(adjustedR2(complex_model_R.score(X_train,y_train),train_data.shape[0],204),'.3f'))\n",
    "rtecm2 = float(format(complex_model_R.score(X_test,y_test),'.3f'))\n",
    "artecm2 = float(format(adjustedR2(complex_model_R.score(X_test,y_test),test_data.shape[0],204),'.3f'))\n",
    "cv2 = float(format(cross_val_score(complex_model_R,X,y,cv=5).mean(),'.3f'))\n",
    "\n",
    "complex_model_R = linear_model.Ridge(alpha=1000)\n",
    "complex_model_R.fit(X_train,y_train)\n",
    "\n",
    "pred3 = complex_model_R.predict(X_test)\n",
    "rmsecm3 = float(format(np.sqrt(metrics.mean_squared_error(y_test,pred1)),'.3f'))\n",
    "rtrcm3 = float(format(complex_model_R.score(X_train,y_train),'.3f'))\n",
    "artrcm3 = float(format(adjustedR2(complex_model_R.score(X_train,y_train),train_data.shape[0],204),'.3f'))\n",
    "rtecm3 = float(format(complex_model_R.score(X_test,y_test),'.3f'))\n",
    "artecm3 = float(format(adjustedR2(complex_model_R.score(X_test,y_test),test_data.shape[0],204),'.3f'))\n",
    "cv3 = float(format(cross_val_score(complex_model_R,X,y,cv=5).mean(),'.3f'))\n",
    "\n",
    "r = evaluation.shape[0]\n",
    "evaluation.loc[r] = ['Ridge Regression','alpha=1, all features',rmsecm1,rtrcm1,artrcm1,rtecm1,artecm1,cv1]\n",
    "evaluation.loc[r+1] = ['Ridge Regression','alpha=100, all features',rmsecm2,rtrcm2,artrcm2,rtecm2,artecm2,cv2]\n",
    "evaluation.loc[r+2] = ['Ridge Regression','alpha=1000, all features',rmsecm3,rtrcm3,artrcm3,rtecm3,artecm3,cv3]\n",
    "evaluation.sort_values(by = '5-Fold Cross Validation', ascending=False)"
   ]
  },
  {
   "cell_type": "markdown",
   "id": "1194782f",
   "metadata": {},
   "source": [
    "### 4.4 Lasso Regression"
   ]
  },
  {
   "cell_type": "code",
   "execution_count": 70,
   "id": "22565614",
   "metadata": {},
   "outputs": [
    {
     "data": {
      "text/html": [
       "<div>\n",
       "<style scoped>\n",
       "    .dataframe tbody tr th:only-of-type {\n",
       "        vertical-align: middle;\n",
       "    }\n",
       "\n",
       "    .dataframe tbody tr th {\n",
       "        vertical-align: top;\n",
       "    }\n",
       "\n",
       "    .dataframe thead th {\n",
       "        text-align: right;\n",
       "    }\n",
       "</style>\n",
       "<table border=\"1\" class=\"dataframe\">\n",
       "  <thead>\n",
       "    <tr style=\"text-align: right;\">\n",
       "      <th></th>\n",
       "      <th>Model</th>\n",
       "      <th>Details</th>\n",
       "      <th>Root Mean Squared Error (RMSE)</th>\n",
       "      <th>R-squared (training)</th>\n",
       "      <th>Adjusted R-squared (training)</th>\n",
       "      <th>R-squared (test)</th>\n",
       "      <th>Adjusted R-squared (test)</th>\n",
       "      <th>5-Fold Cross Validation</th>\n",
       "    </tr>\n",
       "  </thead>\n",
       "  <tbody>\n",
       "    <tr>\n",
       "      <th>1</th>\n",
       "      <td>Multiple Regression-4</td>\n",
       "      <td>all features</td>\n",
       "      <td>987.905</td>\n",
       "      <td>0.001</td>\n",
       "      <td>-0.0</td>\n",
       "      <td>0.001</td>\n",
       "      <td>-0.004</td>\n",
       "      <td>1.000</td>\n",
       "    </tr>\n",
       "    <tr>\n",
       "      <th>2</th>\n",
       "      <td>Ridge Regression</td>\n",
       "      <td>alpha=1, all features</td>\n",
       "      <td>988.344</td>\n",
       "      <td>0.001</td>\n",
       "      <td>-0.0</td>\n",
       "      <td>0.001</td>\n",
       "      <td>-0.004</td>\n",
       "      <td>1.000</td>\n",
       "    </tr>\n",
       "    <tr>\n",
       "      <th>3</th>\n",
       "      <td>Ridge Regression</td>\n",
       "      <td>alpha=100, all features</td>\n",
       "      <td>988.344</td>\n",
       "      <td>0.001</td>\n",
       "      <td>-0.0</td>\n",
       "      <td>0.001</td>\n",
       "      <td>-0.004</td>\n",
       "      <td>1.000</td>\n",
       "    </tr>\n",
       "    <tr>\n",
       "      <th>4</th>\n",
       "      <td>Ridge Regression</td>\n",
       "      <td>alpha=1000, all features</td>\n",
       "      <td>988.344</td>\n",
       "      <td>0.001</td>\n",
       "      <td>-0.0</td>\n",
       "      <td>0.001</td>\n",
       "      <td>-0.004</td>\n",
       "      <td>1.000</td>\n",
       "    </tr>\n",
       "    <tr>\n",
       "      <th>5</th>\n",
       "      <td>Lasso Regression</td>\n",
       "      <td>alpha=1, all features</td>\n",
       "      <td>988.344</td>\n",
       "      <td>0.001</td>\n",
       "      <td>-0.0</td>\n",
       "      <td>0.001</td>\n",
       "      <td>-0.004</td>\n",
       "      <td>1.000</td>\n",
       "    </tr>\n",
       "    <tr>\n",
       "      <th>6</th>\n",
       "      <td>Lasso Regression</td>\n",
       "      <td>alpha=100, all features</td>\n",
       "      <td>988.344</td>\n",
       "      <td>0.001</td>\n",
       "      <td>-0.001</td>\n",
       "      <td>0.000</td>\n",
       "      <td>-0.004</td>\n",
       "      <td>0.887</td>\n",
       "    </tr>\n",
       "    <tr>\n",
       "      <th>7</th>\n",
       "      <td>Lasso Regression</td>\n",
       "      <td>alpha=1000, all features</td>\n",
       "      <td>988.344</td>\n",
       "      <td>0.000</td>\n",
       "      <td>-0.001</td>\n",
       "      <td>-0.000</td>\n",
       "      <td>-0.005</td>\n",
       "      <td>-7.620</td>\n",
       "    </tr>\n",
       "    <tr>\n",
       "      <th>0</th>\n",
       "      <td>Simple Linear Regression</td>\n",
       "      <td>-</td>\n",
       "      <td>988.344</td>\n",
       "      <td>0.001</td>\n",
       "      <td>-</td>\n",
       "      <td>0.001</td>\n",
       "      <td>-</td>\n",
       "      <td>-27.270</td>\n",
       "    </tr>\n",
       "  </tbody>\n",
       "</table>\n",
       "</div>"
      ],
      "text/plain": [
       "                      Model                   Details  \\\n",
       "1     Multiple Regression-4              all features   \n",
       "2          Ridge Regression     alpha=1, all features   \n",
       "3          Ridge Regression   alpha=100, all features   \n",
       "4          Ridge Regression  alpha=1000, all features   \n",
       "5          Lasso Regression     alpha=1, all features   \n",
       "6          Lasso Regression   alpha=100, all features   \n",
       "7          Lasso Regression  alpha=1000, all features   \n",
       "0  Simple Linear Regression                         -   \n",
       "\n",
       "   Root Mean Squared Error (RMSE)  R-squared (training)  \\\n",
       "1                         987.905                 0.001   \n",
       "2                         988.344                 0.001   \n",
       "3                         988.344                 0.001   \n",
       "4                         988.344                 0.001   \n",
       "5                         988.344                 0.001   \n",
       "6                         988.344                 0.001   \n",
       "7                         988.344                 0.000   \n",
       "0                         988.344                 0.001   \n",
       "\n",
       "  Adjusted R-squared (training)  R-squared (test) Adjusted R-squared (test)  \\\n",
       "1                          -0.0             0.001                    -0.004   \n",
       "2                          -0.0             0.001                    -0.004   \n",
       "3                          -0.0             0.001                    -0.004   \n",
       "4                          -0.0             0.001                    -0.004   \n",
       "5                          -0.0             0.001                    -0.004   \n",
       "6                        -0.001             0.000                    -0.004   \n",
       "7                        -0.001            -0.000                    -0.005   \n",
       "0                             -             0.001                         -   \n",
       "\n",
       "   5-Fold Cross Validation  \n",
       "1                    1.000  \n",
       "2                    1.000  \n",
       "3                    1.000  \n",
       "4                    1.000  \n",
       "5                    1.000  \n",
       "6                    0.887  \n",
       "7                   -7.620  \n",
       "0                  -27.270  "
      ]
     },
     "execution_count": 70,
     "metadata": {},
     "output_type": "execute_result"
    }
   ],
   "source": [
    "complex_model_L = linear_model.Lasso(alpha=1)\n",
    "complex_model_L.fit(X_train,y_train)\n",
    "\n",
    "pred1 = complex_model_L.predict(X_test)\n",
    "rmsecm1 = float(format(np.sqrt(metrics.mean_squared_error(y_test,pred1)),'.3f'))\n",
    "rtrcm1 = float(format(complex_model_L.score(X_train,y_train),'.3f'))\n",
    "artrcm1 = float(format(adjustedR2(complex_model_L.score(X_train,y_train),train_data.shape[0],204),'.3f'))\n",
    "rtecm1 = float(format(complex_model_L.score(X_test,y_test),'.3f'))\n",
    "artecm1 = float(format(adjustedR2(complex_model_L.score(X_test,y_test),test_data.shape[0],204),'.3f'))\n",
    "cv1 = float(format(cross_val_score(complex_model_L,X,y,cv=5).mean(),'.3f'))\n",
    "\n",
    "complex_model_L = linear_model.Lasso(alpha=100)\n",
    "complex_model_L.fit(X_train,y_train)\n",
    "\n",
    "pred2 = complex_model_L.predict(X_test)\n",
    "rmsecm2 = float(format(np.sqrt(metrics.mean_squared_error(y_test,pred1)),'.3f'))\n",
    "rtrcm2 = float(format(complex_model_L.score(X_train,y_train),'.3f'))\n",
    "artrcm2 = float(format(adjustedR2(complex_model_L.score(X_train,y_train),train_data.shape[0],204),'.3f'))\n",
    "rtecm2 = float(format(complex_model_L.score(X_test,y_test),'.3f'))\n",
    "artecm2 = float(format(adjustedR2(complex_model_L.score(X_test,y_test),test_data.shape[0],204),'.3f'))\n",
    "cv2 = float(format(cross_val_score(complex_model_L,X,y,cv=5).mean(),'.3f'))\n",
    "\n",
    "complex_model_L = linear_model.Lasso(alpha=1000)\n",
    "complex_model_L.fit(X_train,y_train)\n",
    "\n",
    "pred3 = complex_model_L.predict(X_test)\n",
    "rmsecm3 = float(format(np.sqrt(metrics.mean_squared_error(y_test,pred1)),'.3f'))\n",
    "rtrcm3 = float(format(complex_model_L.score(X_train,y_train),'.3f'))\n",
    "artrcm3 = float(format(adjustedR2(complex_model_L.score(X_train,y_train),train_data.shape[0],204),'.3f'))\n",
    "rtecm3 = float(format(complex_model_L.score(X_test,y_test),'.3f'))\n",
    "artecm3 = float(format(adjustedR2(complex_model_L.score(X_test,y_test),test_data.shape[0],204),'.3f'))\n",
    "cv3 = float(format(cross_val_score(complex_model_L,X,y,cv=5).mean(),'.3f'))\n",
    "\n",
    "r = evaluation.shape[0]\n",
    "evaluation.loc[r] = ['Lasso Regression','alpha=1, all features',rmsecm1,rtrcm1,artrcm1,rtecm1,artecm1,cv1]\n",
    "evaluation.loc[r+1] = ['Lasso Regression','alpha=100, all features',rmsecm2,rtrcm2,artrcm2,rtecm2,artecm2,cv2]\n",
    "evaluation.loc[r+2] = ['Lasso Regression','alpha=1000, all features',rmsecm3,rtrcm3,artrcm3,rtecm3,artecm3,cv3]\n",
    "evaluation.sort_values(by = '5-Fold Cross Validation', ascending=False)"
   ]
  },
  {
   "cell_type": "markdown",
   "id": "f58ba09f",
   "metadata": {},
   "source": [
    "### 4.5 Polynomial Regression"
   ]
  },
  {
   "cell_type": "markdown",
   "id": "91c51a55",
   "metadata": {},
   "source": [
    "from sklearn.preprocessing import PolynomialFeatures\n",
    "evaluation_poly = pd.DataFrame({'Model': [],\n",
    "                                'Details':[],\n",
    "                                'Root Mean Squared Error (RMSE)':[],\n",
    "                                'R-squared (training)':[],\n",
    "                                'Adjusted R-squared (training)':[],\n",
    "                                'R-squared (test)':[],\n",
    "                                'Adjusted R-squared (test)':[],\n",
    "                                '5-Fold Cross Validation':[]})\n",
    "\n",
    "\n",
    "polyfeat = PolynomialFeatures(degree=2)\n",
    "X_allpoly = polyfeat.fit_transform(X)\n",
    "X_trainpoly = polyfeat.fit_transform(X_train)\n",
    "X_testpoly = polyfeat.fit_transform(X_test)\n",
    "poly = linear_model.LinearRegression().fit(X_trainpoly, y_train)\n",
    "\n",
    "pred1 = poly.predict(X_testpoly)\n",
    "rmsepoly1 = float(format(np.sqrt(metrics.mean_squared_error(y_test,pred1)),'.3f'))\n",
    "rtrpoly1 = float(format(poly.score(X_trainpoly,y_train),'.3f'))\n",
    "rtepoly1 = float(format(poly.score(X_testpoly,y_test),'.3f'))\n",
    "cv1 = float(format(cross_val_score(linear_model.LinearRegression(),X_allpoly,y,cv=5).mean(),'.3f'))\n",
    "\n",
    "polyfeat = PolynomialFeatures(degree=3)\n",
    "X_allpoly = polyfeat.fit_transform(X)\n",
    "X_trainpoly = polyfeat.fit_transform(X_train)\n",
    "X_testpoly = polyfeat.fit_transform(X_test)\n",
    "poly = linear_model.LinearRegression().fit(X_trainpoly, y_train)\n",
    "\n",
    "pred2 = poly.predict(X_testpoly)\n",
    "rmsepoly2 = float(format(np.sqrt(metrics.mean_squared_error(y_test,pred2)),'.3f'))\n",
    "rtrpoly2 = float(format(poly.score(X_trainpoly,y_train),'.3f'))\n",
    "rtepoly2 = float(format(poly.score(X_testpoly,y_test),'.3f'))\n",
    "cv2 = float(format(cross_val_score(linear_model.LinearRegression(),X_allpoly,y,cv=5).mean(),'.3f'))\n",
    "\n",
    "r = evaluation_poly.shape[0]\n",
    "evaluation_poly.loc[r] = ['Polynomial Regression','degree=2, all features, no preprocessing',rmsepoly1,rtrpoly1,'-',rtepoly1,'-',cv1]\n",
    "evaluation_poly.loc[r+1] = ['Polynomial Regression','degree=3, all features, no preprocessing',rmsepoly2,rtrpoly2,'-',rtepoly2,'-',cv2]\n",
    "\n",
    "evaluation_poly_temp = evaluation_poly[['Model','Details','Root Mean Squared Error (RMSE)','R-squared (training)','R-squared (test)','5-Fold Cross Validation']]\n",
    "evaluation_poly_temp.sort_values(by = '5-Fold Cross Validation', ascending=False)"
   ]
  },
  {
   "cell_type": "markdown",
   "id": "9ab49880",
   "metadata": {},
   "source": [
    "### 4.6 Potential Reasons of Failed Prediction"
   ]
  },
  {
   "cell_type": "markdown",
   "id": "8db32ec7",
   "metadata": {},
   "source": [
    "As we know from this evaluation form, we should choose the multiregression 4 which has the lowest RMSE when comes to 5 folds corss validation."
   ]
  },
  {
   "cell_type": "markdown",
   "id": "05c51d2d",
   "metadata": {},
   "source": [
    "### A.The kernel died after the polynomial regression"
   ]
  },
  {
   "cell_type": "markdown",
   "id": "3f3734a1",
   "metadata": {},
   "source": [
    "I don't know why but the kernel just keep breaking down after I run the code above for the polynomial regression, so I have to put it in the markdown and hopefully this can somehow give me a better solution since the complexity of the model do grows up which leads to the higher variance."
   ]
  },
  {
   "cell_type": "markdown",
   "id": "bfec14eb",
   "metadata": {},
   "source": [
    "### B. The outlier processing is raw"
   ]
  },
  {
   "cell_type": "markdown",
   "id": "9a7fbb4c",
   "metadata": {},
   "source": [
    "Since that I obtained this dataset from a public dataset which is not from a professionally dataset website for example from Kaggle or UCI, the dataset is really raw and I haven't process the outlier outside of distribution of 95%. I believe by process this outliers the model will be more accurate and concise."
   ]
  },
  {
   "cell_type": "markdown",
   "id": "fef39ecd",
   "metadata": {},
   "source": [
    "### C. The lack of grid search"
   ]
  },
  {
   "cell_type": "markdown",
   "id": "ee08b7f6",
   "metadata": {},
   "source": [
    "Due to the lack of the dataset, I haven't done the grid search which can definitely miss some of the models in the best practice."
   ]
  }
 ],
 "metadata": {
  "kernelspec": {
   "display_name": "Python 3 (ipykernel)",
   "language": "python",
   "name": "python3"
  },
  "language_info": {
   "codemirror_mode": {
    "name": "ipython",
    "version": 3
   },
   "file_extension": ".py",
   "mimetype": "text/x-python",
   "name": "python",
   "nbconvert_exporter": "python",
   "pygments_lexer": "ipython3",
   "version": "3.9.7"
  }
 },
 "nbformat": 4,
 "nbformat_minor": 5
}
